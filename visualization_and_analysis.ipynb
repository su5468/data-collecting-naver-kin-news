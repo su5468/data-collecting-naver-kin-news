{
 "cells": [
  {
   "cell_type": "markdown",
   "metadata": {},
   "source": [
    "# 기본 시각화 및 전처리\n",
    "데이터 가져와서 결측값 삭제하고 자료형 변환  \n",
    "이후 연도별 Frequency를 시각화"
   ]
  },
  {
   "cell_type": "code",
   "execution_count": 1,
   "metadata": {},
   "outputs": [],
   "source": [
    "# 아래 코드는 윈도우 기준임.\n",
    "# 타 OS에서는 정상작동을 보장하지 않으니 확인 요함.\n",
    "\n",
    "import datetime as dt\n",
    "from collections import defaultdict\n",
    "\n",
    "import pandas as pd\n",
    "import matplotlib.pyplot as plt\n",
    "import seaborn as sns\n",
    "import dateutil.parser as dtparser\n",
    "\n",
    "import utils\n",
    "\n",
    "plt.rc('font', family=\"Malgun Gothic\")"
   ]
  },
  {
   "cell_type": "code",
   "execution_count": 2,
   "metadata": {},
   "outputs": [],
   "source": [
    "# 결과 파일들의 파일명과 검색 키워드를 딕셔너리에 저장.\n",
    "# 순회해서 데이터를 쉽게 불러오기 위한 작업임.\n",
    "\n",
    "# 파일 종류를 저장하는 문자열 리스트\n",
    "source_types = [\"news_api\", \"news_crawl\", \"kin\", \"news_unique\", \"kin_unique\"]\n",
    "\n",
    "# keywords[\"파일종류 문자열\"]: 해당 파일종류가 가지고 있는 키워드들의 리스트.\n",
    "# 병합, 중복제거, 토큰화 결과(news_unique)는 키워드가 없으므로 빈 문자열을 키워드로 함.\n",
    "keywords = {}\n",
    "keywords[\"kin\"] = [\"환자 권리\", \"환자 요구\", \"환자 의견\"]\n",
    "keywords[\"news\"] = []\n",
    "keywords[\"news_api\"] = [\"환자-의사 공유 의사결정\"]\n",
    "keywords[\"news_crawl\"] = [\"환자 의사 공유의사결정\"]\n",
    "keywords[\"news_unique\"] = [\"\"]\n",
    "keywords[\"kin_unique\"] = [\"\"]\n",
    "\n",
    "# filenames[\"파일종류 문자열\"]: 해당 파일종류의 실제 파일명.\n",
    "filenames = {}\n",
    "filenames[\"kin\"] = utils.FileType.KIN_WT.value\n",
    "filenames[\"news\"] = \"\"\n",
    "filenames[\"news_api\"] = utils.FileType.NEWS_WT.value\n",
    "filenames[\"news_crawl\"] = utils.FileType.CRAWL_NEWS_WT.value\n",
    "filenames[\"news_unique\"] = utils.FileType.NEWS_PROCESSED_UNIQUE.value\n",
    "filenames[\"kin_unique\"] = utils.FileType.KIN_PROCESSED_UNIQUE.value\n"
   ]
  },
  {
   "cell_type": "code",
   "execution_count": 3,
   "metadata": {},
   "outputs": [],
   "source": [
    "# 실제로 데이터프레임을 로드함.\n",
    "# dfs[\"파일종류 문자열\"][\"키워드 문자열\"]: 파일종류와 키워드가 지정된 데이터프레임.\n",
    "# e.g. dfs[\"news_crawl\"][\"환자 의사 공유의사결정\"]은 \"환자 의사 공유의사결정\" 검색어로 검색해서 크롤링으로 수집한 뉴스 데이터프레임.\n",
    "\n",
    "dfs = {}\n",
    "for source_type in source_types:\n",
    "    dfs[source_type] = {}\n",
    "    for keyword in keywords[source_type]:\n",
    "        filename = f'{filenames[source_type]}_{keyword}.txt' if keyword else f'{filenames[source_type]}.txt'\n",
    "        data_json = utils.get_json_from_file(filename)[\"items\"]\n",
    "        dfs[source_type][keyword] = pd.DataFrame(data_json)\n",
    "\n",
    "\n",
    "# 데이터프레임 가공 및 전처리.\n",
    "\n",
    "# 지식인 데이터 전처리를 위한 함수\n",
    "def dtparse(s: str) -> None | dt.datetime :\n",
    "    \"\"\"\n",
    "    지식인 데이터에서 문자열을 dt객체로 파싱하는 함수.\n",
    "    파싱에 실패하면 None 반환.\n",
    "\n",
    "    Args:\n",
    "        s (str): 날짜를 나타낼 것으로 추측되는 문자열.\n",
    "\n",
    "    Returns:\n",
    "        None | dt.datetime: 파싱이 성공하면 dt객체, 실패하면 None.\n",
    "    \"\"\"\n",
    "    if s.startswith(\"작성일\"):\n",
    "        s = s[3:]\n",
    "    try:\n",
    "        return dtparser.parse(s)\n",
    "    except dtparser.ParserError:\n",
    "        return None\n",
    "\n",
    "\n",
    "# 네이버 뉴스 api 데이터.\n",
    "# 날짜를 dt객체로 변경.\n",
    "# 에러로 인해 수집되지 않은 데이터 드롭.\n",
    "source_type = \"news_api\"\n",
    "for keyword in keywords[source_type]:\n",
    "    df = dfs[source_type][keyword]\n",
    "    df[\"date\"] = pd.to_datetime(df[\"date\"])\n",
    "    df = df[~df[\"text\"].str.endswith(\"_error\")]\n",
    "    dfs[source_type][keyword] = df\n",
    "\n",
    "\n",
    "# 네이버 뉴스 크롤링 데이터.\n",
    "# 날짜를 dt객체로 변경.\n",
    "# 에러로 인해 수집되지 않은 데이터 드롭.\n",
    "source_type = \"news_crawl\"\n",
    "for keyword in keywords[source_type]:\n",
    "    df = dfs[source_type][keyword]\n",
    "    df[\"date\"] = pd.to_datetime(df[\"date\"])\n",
    "    df = df[~df[\"text\"].str.endswith(\"_error\")]\n",
    "    dfs[source_type][keyword] = df\n",
    "\n",
    "\n",
    "# 네이버 지식인 데이터.\n",
    "# 날짜를 나타내는 \"지저분한\" 문자열을 dt객체로 변경.\n",
    "source_type = \"kin\"\n",
    "for keyword in keywords[source_type]:\n",
    "    df = dfs[source_type][keyword]\n",
    "    df[\"date\"] = df[\"date\"].apply(lambda x: list(map(dtparse, x)))\n",
    "    dfs[source_type][keyword] = df\n",
    "\n",
    "\n",
    "# 중복을 제거하고 토큰화한 뉴스 데이터.\n",
    "# api와 크롤링에서 날짜 형식이 달라서 통일하고 dt객체로 반환.\n",
    "# 토큰이 없는 데이터 드롭.\n",
    "# TODO: 별로 깔끔한 방식은 아님. 리팩토링 요함.\n",
    "# 1. 수집 때부터 날짜 양식을 맞추도록 수정할 것.\n",
    "# 2. .ipynb 파일을 분리해서 전처리부와 시각화부를 나눌 것.\n",
    "source_type = \"news_unique\"\n",
    "for keyword in keywords[source_type]:\n",
    "    df = dfs[source_type][keyword]\n",
    "    df[\"date\"] = df[\"date\"].apply(lambda x: pd.to_datetime(x).tz_localize(None))\n",
    "    df[\"date\"] = pd.to_datetime(df[\"date\"])\n",
    "    df = df[df[\"tokens\"].apply(lambda x: len(x) > 0)]\n",
    "    dfs[source_type][keyword] = df\n",
    "\n",
    "\n",
    "# 중복을 제거하고 토큰화한 지식인 데이터.\n",
    "# 데이터프레임에서 질문, 답변을 분리하여 정규화.\n",
    "# 기존 인덱스를 id로 삼아서 질문과 답변의 연결을 유지\n",
    "# 이후 질문 데이터프레임과 답변 데이터프레임을 연결(concat).\n",
    "# 날짜를 나타내는 \"지저분한\" 문자열을 dt객체로 변경.\n",
    "source_type = \"kin_unique\"\n",
    "for keyword in keywords[source_type]:\n",
    "    df = dfs[source_type][keyword].copy()\n",
    "    df = df[df[\"date\"].apply(lambda x: len(x) > 0)]\n",
    "    df[\"id\"] = df.index\n",
    "\n",
    "    df_question = df.copy()\n",
    "    df_question[\"date\"] = df[\"date\"].apply(lambda x: x.pop(0))\n",
    "    df_question.drop(columns=[\"tokens_answer\", \"answers\"], inplace=True)\n",
    "    df_question.rename({\"question\": \"text\"}, axis=\"columns\", inplace=True)\n",
    "    df_question[\"type\"] = \"question\"\n",
    "\n",
    "    df_answer = df.explode(column=[\"answers\", \"date\", \"tokens_answer\"], ignore_index=True)\n",
    "    df_answer.drop(columns=[\"tokens\", \"question\"], inplace=True)\n",
    "    df_answer.rename({\"tokens_answer\": \"tokens\", \"answers\": \"text\"}, axis=\"columns\", inplace=True)\n",
    "    df_answer[\"type\"] = \"answer\"\n",
    "\n",
    "    df = pd.concat([df_question, df_answer])\n",
    "    df[\"date\"] = df[\"date\"].apply(dtparse)\n",
    "    dfs[source_type][keyword] = df.copy()"
   ]
  },
  {
   "cell_type": "code",
   "execution_count": null,
   "metadata": {},
   "outputs": [
    {
     "data": {
      "image/png": "[encoded data removed]",
      "text/plain": [
       "<Figure size 640x480 with 1 Axes>"
      ]
     },
     "metadata": {},
     "output_type": "display_data"
    },
    {
     "data": {
      "image/png": "[encoded data removed]",
      "text/plain": [
       "<Figure size 640x480 with 1 Axes>"
      ]
     },
     "metadata": {},
     "output_type": "display_data"
    },
    {
     "data": {
      "image/png": "[encoded data removed]",
      "text/plain": [
       "<Figure size 640x480 with 1 Axes>"
      ]
     },
     "metadata": {},
     "output_type": "display_data"
    },
    {
     "data": {
      "image/png": "[encoded data removed]",
      "text/plain": [
       "<Figure size 640x480 with 1 Axes>"
      ]
     },
     "metadata": {},
     "output_type": "display_data"
    }
   ],
   "source": [
    "# Year Frequency 시각화\n",
    "# TODO: 시각화와 전처리를 다른 파일로 분리하고, 각 파일타입별로 셀을 분리.\n",
    "\n",
    "# 네이버 뉴스 api 데이터.\n",
    "# 연도를 뽑아내고 연도별 countplot 플로팅.\n",
    "source_type = \"news_api\"\n",
    "for keyword in keywords[source_type]:\n",
    "    df = dfs[source_type][keyword]\n",
    "    df[\"year\"] = df[\"date\"].dt.year\n",
    "    sns.countplot(data=df, x=\"year\", color=\"green\")\n",
    "    plt.title(f\"Year Frequency of News Data - Naver API (N={len(df)})\")\n",
    "    plt.show()\n",
    "\n",
    "# 네이버 뉴스 크롤링 데이터.\n",
    "# 연도를 뽑아내고 연도별 countplot 플로팅.\n",
    "source_type = \"news_crawl\"\n",
    "for keyword in keywords[source_type]:\n",
    "    df = dfs[source_type][keyword]\n",
    "    df[\"year\"] = df[\"date\"].dt.year\n",
    "    sns.countplot(data=df, x=\"year\", color=\"green\")\n",
    "    plt.title(f\"Year Frequency of News Data (2000 - 2023, N={len(df)})\")\n",
    "    plt.xticks(rotation=45)\n",
    "    plt.show()\n",
    "\n",
    "# 네이버 지식인 데이터.\n",
    "# 전체 n을 세고, 년도를 기록함.\n",
    "# 이후 해당 데이터를 이용해 barplot 플로팅.\n",
    "# TODO: 리팩토링 요함.\n",
    "# 1. 전처리 과정 등에서 데이터 concat 필요.\n",
    "# 2. 각 파일에 별도로 접근해야 하는 경우를 대비해 keyword 열을 생성.\n",
    "source_type = \"kin\"\n",
    "temp_n = 0\n",
    "year_dict = dict(zip(keywords[source_type], [defaultdict(int) for _ in keywords[source_type]]))\n",
    "for keyword in keywords[source_type]:\n",
    "    df = dfs[source_type][keyword]\n",
    "    temp_n += len(df)\n",
    "    for row in df[\"date\"]:\n",
    "        for date in row:\n",
    "            if date is None:\n",
    "                continue\n",
    "            year_dict[keyword][date.year] += 1\n",
    "\n",
    "df_temp = pd.melt(pd.DataFrame(year_dict).reset_index(), id_vars='index', var_name='column', value_name='value')\n",
    "sns.barplot(data=df_temp, x='index', y='value', hue='column')\n",
    "plt.title(f\"Year Frequency of Naver KIN Data (N={temp_n})\")\n",
    "plt.xticks(rotation=45)\n",
    "plt.legend(title = \"keyword\")\n",
    "plt.show()\n",
    "\n",
    "# 중복을 제거하고 토큰화한 뉴스 데이터.\n",
    "# 연도를 뽑아내고 연도별 countplot 플로팅.\n",
    "source_type = \"news_unique\"\n",
    "for keyword in keywords[source_type]:\n",
    "    df = dfs[source_type][keyword]\n",
    "    df[\"year\"] = df[\"date\"].dt.year\n",
    "    sns.countplot(data=df, x=\"year\", color=\"green\")\n",
    "    plt.title(f\"Year Frequency of Whole News Data - Deduplicated (N={len(df)})\")\n",
    "    plt.xticks(rotation=66)\n",
    "    plt.show()"
   ]
  },
  {
   "cell_type": "code",
   "execution_count": null,
   "metadata": {},
   "outputs": [
    {
     "data": {
      "image/png": "[encoded data removed]",
      "text/plain": [
       "<Figure size 640x480 with 1 Axes>"
      ]
     },
     "metadata": {},
     "output_type": "display_data"
    }
   ],
   "source": [
    "# 각 키워드 별 기사 빈도 플로팅.\n",
    "source_type = \"news_unique\"\n",
    "for keyword in keywords[source_type]:\n",
    "    df = dfs[source_type][keyword]\n",
    "    df[\"year\"] = df[\"date\"].dt.year\n",
    "    df = df[[\"year\", \"keyword\"]]\n",
    "    df_count = df.value_counts().unstack().fillna(0)\n",
    "\n",
    "    df_count.plot.bar(stacked=True, legend=\"reverse\", width=0.8)\n",
    "    plt.title(f\"Year Frequency of Whole News Data - Deduplicated (N={len(df)})\")\n",
    "    plt.xticks(rotation=66)\n",
    "    plt.show()"
   ]
  },
  {
   "cell_type": "markdown",
   "metadata": {},
   "source": [
    "# 토픽 모델링\n",
    "BERTopic으로 Hierarchical Topic Modeling 수행."
   ]
  },
  {
   "cell_type": "code",
   "execution_count": 5,
   "metadata": {},
   "outputs": [
    {
     "name": "stderr",
     "output_type": "stream",
     "text": [
      "d:\\Codes\\SDM_crawl\\.venv\\lib\\site-packages\\tqdm\\auto.py:21: TqdmWarning: IProgress not found. Please update jupyter and ipywidgets. See https://ipywidgets.readthedocs.io/en/stable/user_install.html\n",
      "  from .autonotebook import tqdm as notebook_tqdm\n"
     ]
    }
   ],
   "source": [
    "# mecab 모듈의 경우 python-mecab-ko 모듈을 사용함.\n",
    "# 이 모듈이 느리기 때문에, 성능개선을 위해서는 다른 토크나이저를 사용하도록 할 수 있음.\n",
    "\n",
    "import re\n",
    "from itertools import chain\n",
    "from typing import List\n",
    "\n",
    "from bertopic import BERTopic\n",
    "from mecab import MeCab\n",
    "from sklearn.feature_extraction.text import CountVectorizer\n",
    "\n",
    "import utils"
   ]
  },
  {
   "cell_type": "code",
   "execution_count": 7,
   "metadata": {},
   "outputs": [
    {
     "name": "stderr",
     "output_type": "stream",
     "text": [
      "2024-02-08 05:28:44,264 - BERTopic - Embedding - Transforming documents to embeddings.\n",
      "Batches: 100%|██████████| 237/237 [23:22<00:00,  5.92s/it]\n",
      "2024-02-08 05:52:13,852 - BERTopic - Embedding - Completed ✓\n",
      "2024-02-08 05:52:13,855 - BERTopic - Dimensionality - Fitting the dimensionality reduction algorithm\n",
      "2024-02-08 05:52:54,215 - BERTopic - Dimensionality - Completed ✓\n",
      "2024-02-08 05:52:54,233 - BERTopic - Cluster - Start clustering the reduced embeddings\n",
      "2024-02-08 05:52:54,761 - BERTopic - Cluster - Completed ✓\n",
      "2024-02-08 05:52:54,814 - BERTopic - Representation - Extracting topics from clusters using representation models.\n",
      "2024-02-08 05:52:57,102 - BERTopic - Representation - Completed ✓\n"
     ]
    }
   ],
   "source": [
    "# 네이버 뉴스 토픽모델링으로 유관 데이터 분석.\n",
    "# TODO: 전처리, 시각화, 토픽모델링을 각 파일로 분리.\n",
    "typestring = input('대상 데이터 종류 선택(\"news\" | \"kin\")')\n",
    "serial_version = input('불러올 모델 선택(\"v1\", \"v2\", ..., 빈칸이면 새로 학습)')\n",
    "\n",
    "\n",
    "df = dfs[f\"{typestring}_unique\"][\"\"]\n",
    "n = len(df)\n",
    "mecab = MeCab()\n",
    "\n",
    "# 사용중인 토크나이저의 성능 이슈 때문에, 문서 별로 이미 캐시된 토큰화 결과를 그대로 사용함.\n",
    "# betopic에서 토큰화를 수행할 때, 문서들을 concat해서 수행하는데, 문서 단위의 토큰화 결과는 동일하므로, 이를 재사용하는 게 목적.\n",
    "# deli: concat한 문서를 다시 분리하기 위한 구분자(delimeter)임. 원본 문서들에 없는 문자열이면 무엇이든 사용 가능.\n",
    "# token_map[\"문서내용\"]: 해당 문서내용의 토큰화 결과\n",
    "deli = \"$!$!$!\"\n",
    "token_map = dict(zip(\n",
    "    df[\"text\"].apply(lambda x: re.sub(r\"\\s\", \"\", x).lower()), \n",
    "    df[\"tokens\"]\n",
    "))\n",
    "token_map[\"\"] = []\n",
    "\n",
    "# 불용어를 일일히 설정하는 대신 길이가 1인 토큰은 전부 드랍.\n",
    "# 추가로 필요하면 vectorizer에 불용어 추가 가능하니 추가하면 됨.\n",
    "for key, val in token_map.items():\n",
    "    token_map[key] = list(filter(lambda x: len(x) >= 2, val))\n",
    "\n",
    "def tokenize_nouns(text: str) -> List[str]:\n",
    "    \"\"\"\n",
    "    캐시된 문서의 토큰 목록을 반환.\n",
    "\n",
    "    Args:\n",
    "        text (str): 문서 내용 전체.\n",
    "\n",
    "    Returns:\n",
    "        List[str]: 해당 문서의 토큰화 결과 리스트.\n",
    "    \"\"\"\n",
    "    texts = text.split(deli)\n",
    "    rets = list(chain.from_iterable([token_map[re.sub(\"(\\s|\\\\xa0)\", \"\", text)] for text in texts]))\n",
    "    return rets\n",
    "\n",
    "vectorizer = CountVectorizer(tokenizer=tokenize_nouns)\n",
    "\n",
    "# 추후 연결된 문서를 분리하기 위해 문서의 끝에 구분자를 삽입.\n",
    "docs = df[\"text\"].copy()\n",
    "for i in docs.index:\n",
    "    docs[i] += deli\n",
    "\n",
    "if serial_version:\n",
    "    # 직렬화한 토픽모델링 결과 로드.\n",
    "    topic_model = BERTopic.load(f\"{utils.MATERIALS}/bertopic_filter_{typestring}_{serial_version}\")\n",
    "    topic_model.vectorizer_model = vectorizer\n",
    "    topic_model.language = \"multilingual\"\n",
    "else:\n",
    "    # 토픽모델링 수행.\n",
    "    topic_model = BERTopic(verbose=True, language=\"multilingual\", vectorizer_model=vectorizer)\n",
    "    topics, probs = topic_model.fit_transform(docs)"
   ]
  },
  {
   "cell_type": "code",
   "execution_count": null,
   "metadata": {},
   "outputs": [],
   "source": [
    "# 모델 직렬화하여 저장.\n",
    "\n",
    "v = 1\n",
    "while True:\n",
    "    if not utils.already(f\"{utils.MATERIALS}/bertopic_filter_{typestring}_v{v}\"):\n",
    "        break\n",
    "    v += 1\n",
    "\n",
    "embedding_model = \"sentence-transformers/all-MiniLM-L6-v2\"\n",
    "topic_model.save(f\"{utils.MATERIALS}/bertopic_filter_{typestring}_v{v}\", serialization=\"pytorch\", save_ctfidf=True, save_embedding_model=embedding_model)\n",
    "\n",
    "\n",
    "# 수동으로 연관된 것으로 판단되는 토픽 번호를 뽑아서 데이터 저장.\n",
    "# Cortext에 사용을 용이하게 하기 위해 토큰에 구분자 \"***\" 삽입.\n",
    "\n",
    "related_topic_nums = map(int, input('연관된 토픽 번호 입력(구분자: 띄어쓰기)').split())\n",
    "t = topic_model.get_document_info(docs)\n",
    "df_filtered = t[t[\"Topic\"].isin(related_topic_nums)]\n",
    "df_filtered[\"Tokens\"] = df_filtered[\"Document\"].apply(lambda x: '***'.join(tokenize_nouns(x.lower())))\n",
    "df_filtered.to_csv(f\"{utils.RESULTS}/naver_news_filtered_df_v3.csv\")"
   ]
  },
  {
   "cell_type": "code",
   "execution_count": 21,
   "metadata": {},
   "outputs": [
    {
     "name": "stderr",
     "output_type": "stream",
     "text": [
      "100%|██████████| 48/48 [00:00<00:00, 113.04it/s]\n"
     ]
    },
    {
     "ename": "ValueError",
     "evalue": "Mime type rendering requires nbformat>=4.2.0 but it is not installed",
     "output_type": "error",
     "traceback": [
      "\u001b[1;31m---------------------------------------------------------------------------\u001b[0m",
      "\u001b[1;31mValueError\u001b[0m                                Traceback (most recent call last)",
      "File \u001b[1;32md:\\Codes\\SDM_crawl\\.venv\\lib\\site-packages\\IPython\\core\\formatters.py:922\u001b[0m, in \u001b[0;36mIPythonDisplayFormatter.__call__\u001b[1;34m(self, obj)\u001b[0m\n\u001b[0;32m    920\u001b[0m method \u001b[38;5;241m=\u001b[39m get_real_method(obj, \u001b[38;5;28mself\u001b[39m\u001b[38;5;241m.\u001b[39mprint_method)\n\u001b[0;32m    921\u001b[0m \u001b[38;5;28;01mif\u001b[39;00m method \u001b[38;5;129;01mis\u001b[39;00m \u001b[38;5;129;01mnot\u001b[39;00m \u001b[38;5;28;01mNone\u001b[39;00m:\n\u001b[1;32m--> 922\u001b[0m     \u001b[43mmethod\u001b[49m\u001b[43m(\u001b[49m\u001b[43m)\u001b[49m\n\u001b[0;32m    923\u001b[0m     \u001b[38;5;28;01mreturn\u001b[39;00m \u001b[38;5;28;01mTrue\u001b[39;00m\n",
      "File \u001b[1;32md:\\Codes\\SDM_crawl\\.venv\\lib\\site-packages\\plotly\\basedatatypes.py:832\u001b[0m, in \u001b[0;36mBaseFigure._ipython_display_\u001b[1;34m(self)\u001b[0m\n\u001b[0;32m    829\u001b[0m \u001b[38;5;28;01mimport\u001b[39;00m \u001b[38;5;21;01mplotly\u001b[39;00m\u001b[38;5;21;01m.\u001b[39;00m\u001b[38;5;21;01mio\u001b[39;00m \u001b[38;5;28;01mas\u001b[39;00m \u001b[38;5;21;01mpio\u001b[39;00m\n\u001b[0;32m    831\u001b[0m \u001b[38;5;28;01mif\u001b[39;00m pio\u001b[38;5;241m.\u001b[39mrenderers\u001b[38;5;241m.\u001b[39mrender_on_display \u001b[38;5;129;01mand\u001b[39;00m pio\u001b[38;5;241m.\u001b[39mrenderers\u001b[38;5;241m.\u001b[39mdefault:\n\u001b[1;32m--> 832\u001b[0m     \u001b[43mpio\u001b[49m\u001b[38;5;241;43m.\u001b[39;49m\u001b[43mshow\u001b[49m\u001b[43m(\u001b[49m\u001b[38;5;28;43mself\u001b[39;49m\u001b[43m)\u001b[49m\n\u001b[0;32m    833\u001b[0m \u001b[38;5;28;01melse\u001b[39;00m:\n\u001b[0;32m    834\u001b[0m     \u001b[38;5;28mprint\u001b[39m(\u001b[38;5;28mrepr\u001b[39m(\u001b[38;5;28mself\u001b[39m))\n",
      "File \u001b[1;32md:\\Codes\\SDM_crawl\\.venv\\lib\\site-packages\\plotly\\io\\_renderers.py:394\u001b[0m, in \u001b[0;36mshow\u001b[1;34m(fig, renderer, validate, **kwargs)\u001b[0m\n\u001b[0;32m    389\u001b[0m         \u001b[38;5;28;01mraise\u001b[39;00m \u001b[38;5;167;01mValueError\u001b[39;00m(\n\u001b[0;32m    390\u001b[0m             \u001b[38;5;124m\"\u001b[39m\u001b[38;5;124mMime type rendering requires ipython but it is not installed\u001b[39m\u001b[38;5;124m\"\u001b[39m\n\u001b[0;32m    391\u001b[0m         )\n\u001b[0;32m    393\u001b[0m     \u001b[38;5;28;01mif\u001b[39;00m \u001b[38;5;129;01mnot\u001b[39;00m nbformat \u001b[38;5;129;01mor\u001b[39;00m Version(nbformat\u001b[38;5;241m.\u001b[39m__version__) \u001b[38;5;241m<\u001b[39m Version(\u001b[38;5;124m\"\u001b[39m\u001b[38;5;124m4.2.0\u001b[39m\u001b[38;5;124m\"\u001b[39m):\n\u001b[1;32m--> 394\u001b[0m         \u001b[38;5;28;01mraise\u001b[39;00m \u001b[38;5;167;01mValueError\u001b[39;00m(\n\u001b[0;32m    395\u001b[0m             \u001b[38;5;124m\"\u001b[39m\u001b[38;5;124mMime type rendering requires nbformat>=4.2.0 but it is not installed\u001b[39m\u001b[38;5;124m\"\u001b[39m\n\u001b[0;32m    396\u001b[0m         )\n\u001b[0;32m    398\u001b[0m     ipython_display\u001b[38;5;241m.\u001b[39mdisplay(bundle, raw\u001b[38;5;241m=\u001b[39m\u001b[38;5;28;01mTrue\u001b[39;00m)\n\u001b[0;32m    400\u001b[0m \u001b[38;5;66;03m# external renderers\u001b[39;00m\n",
      "\u001b[1;31mValueError\u001b[0m: Mime type rendering requires nbformat>=4.2.0 but it is not installed"
     ]
    },
    {
     "data": {
      "application/vnd.plotly.v1+json": {
       "config": {
        "plotlyServerURL": "https://plot.ly"
       },
       "data": [
        {
         "hoverinfo": "text",
         "marker": {
          "color": "rgb(61,153,112)"
         },
         "mode": "lines",
         "text": [
          "백신_접종_코로나_바이러스_사망",
          "",
          "",
          "에이즈_감염_염인_바이러스_모기"
         ],
         "type": "scatter",
         "x": [
          0,
          0.8917951920917153,
          0.8917951920917153,
          0
         ],
         "xaxis": "x",
         "y": [
          -5,
          -5,
          -15,
          -15
         ],
         "yaxis": "y"
        },
        {
         "hoverinfo": "text",
         "marker": {
          "color": "rgb(61,153,112)"
         },
         "mode": "lines",
         "text": [
          "자궁_불출석_임신_근종_적출",
          "",
          "",
          "담배_보건소_친구_문자_금연"
         ],
         "type": "scatter",
         "x": [
          0,
          0.9615333900551927,
          0.9615333900551927,
          0
         ],
         "xaxis": "x",
         "y": [
          -25,
          -25,
          -35,
          -35
         ],
         "yaxis": "y"
        },
        {
         "hoverinfo": "text",
         "marker": {
          "color": "rgb(61,153,112)"
         },
         "mode": "lines",
         "text": [
          "백신_접종_코로나_감염_에이즈",
          "",
          "",
          "담배_보건소_친구_문자_금연"
         ],
         "type": "scatter",
         "x": [
          0.8917951920917153,
          0.9898447047821737,
          0.9898447047821737,
          0.9615333900551927
         ],
         "xaxis": "x",
         "y": [
          -10,
          -10,
          -30,
          -30
         ],
         "yaxis": "y"
        },
        {
         "hoverinfo": "text",
         "marker": {
          "color": "rgb(255,65,54)"
         },
         "mode": "lines",
         "text": [
          "불면증_발작_수면제_공황_현증",
          "",
          "",
          "우울증_심리_정신_우울_강박"
         ],
         "type": "scatter",
         "x": [
          0,
          0.6496902766086289,
          0.6496902766086289,
          0
         ],
         "xaxis": "x",
         "y": [
          -55,
          -55,
          -65,
          -65
         ],
         "yaxis": "y"
        },
        {
         "hoverinfo": "text",
         "marker": {
          "color": "rgb(255,65,54)"
         },
         "mode": "lines",
         "text": [
          "우울증_심리_정신_우울_강박",
          "",
          "",
          "치매_뇌전증_발작_기억력_지력"
         ],
         "type": "scatter",
         "x": [
          0.6496902766086289,
          0.736702922092964,
          0.736702922092964,
          0
         ],
         "xaxis": "x",
         "y": [
          -60,
          -60,
          -75,
          -75
         ],
         "yaxis": "y"
        },
        {
         "hoverinfo": "text",
         "marker": {
          "color": "rgb(255,65,54)"
         },
         "mode": "lines",
         "text": [
          "트랜_성욕_여자_욕구_남자",
          "",
          "",
          "우울증_정신_심리_장애_우울"
         ],
         "type": "scatter",
         "x": [
          0,
          0.9010075245168172,
          0.9010075245168172,
          0.736702922092964
         ],
         "xaxis": "x",
         "y": [
          -45,
          -45,
          -67.5,
          -67.5
         ],
         "yaxis": "y"
        },
        {
         "hoverinfo": "text",
         "marker": {
          "color": "rgb(0,116,217)"
         },
         "mode": "lines",
         "text": [
          "담배_백신_보건소_친구_접종",
          "",
          "",
          "우울증_정신_심리_장애_증상"
         ],
         "type": "scatter",
         "x": [
          0.9898447047821737,
          1.09567292034062,
          1.09567292034062,
          0.9010075245168172
         ],
         "xaxis": "x",
         "y": [
          -20,
          -20,
          -56.25,
          -56.25
         ],
         "yaxis": "y"
        },
        {
         "hoverinfo": "text",
         "marker": {
          "color": "rgb(35,205,205)"
         },
         "mode": "lines",
         "text": [
          "얼굴_광대뼈_수술_광대_축소",
          "",
          "",
          "돌출_교정_수술_치아_치과"
         ],
         "type": "scatter",
         "x": [
          0,
          0.5902555301263068,
          0.5902555301263068,
          0
         ],
         "xaxis": "x",
         "y": [
          -85,
          -85,
          -95,
          -95
         ],
         "yaxis": "y"
        },
        {
         "hoverinfo": "text",
         "marker": {
          "color": "rgb(35,205,205)"
         },
         "mode": "lines",
         "text": [
          "돌출_수술_교정_치아_치과",
          "",
          "",
          "치과_플란트_교정_비용_치아"
         ],
         "type": "scatter",
         "x": [
          0.5902555301263068,
          0.7078067373763426,
          0.7078067373763426,
          0
         ],
         "xaxis": "x",
         "y": [
          -90,
          -90,
          -105,
          -105
         ],
         "yaxis": "y"
        },
        {
         "hoverinfo": "text",
         "marker": {
          "color": "rgb(0,116,217)"
         },
         "mode": "lines",
         "text": [
          "담배_친구_백신_보건소_사람",
          "",
          "",
          "돌출_수술_교정_치아_치과"
         ],
         "type": "scatter",
         "x": [
          1.09567292034062,
          1.2212894023430798,
          1.2212894023430798,
          0.7078067373763426
         ],
         "xaxis": "x",
         "y": [
          -38.125,
          -38.125,
          -97.5,
          -97.5
         ],
         "yaxis": "y"
        },
        {
         "hoverinfo": "text",
         "marker": {
          "color": "rgb(133,20,75)"
         },
         "mode": "lines",
         "text": [
          "간호사_간호법_간호_윤리_제정",
          "",
          "",
          "윤리_의료_사회_주제_분야"
         ],
         "type": "scatter",
         "x": [
          0,
          0.6832791514978379,
          0.6832791514978379,
          0
         ],
         "xaxis": "x",
         "y": [
          -125,
          -125,
          -135,
          -135
         ],
         "yaxis": "y"
        },
        {
         "hoverinfo": "text",
         "marker": {
          "color": "rgb(133,20,75)"
         },
         "mode": "lines",
         "text": [
          "권리_진료_의무_비밀_환자",
          "",
          "",
          "불만_의사소통_상황_환자_의사"
         ],
         "type": "scatter",
         "x": [
          0,
          0.7274992768850359,
          0.7274992768850359,
          0
         ],
         "xaxis": "x",
         "y": [
          -145,
          -145,
          -155,
          -155
         ],
         "yaxis": "y"
        },
        {
         "hoverinfo": "text",
         "marker": {
          "color": "rgb(133,20,75)"
         },
         "mode": "lines",
         "text": [
          "간호사_윤리_간호법_간호_의료",
          "",
          "",
          "권리_환자_진료_의무_보호"
         ],
         "type": "scatter",
         "x": [
          0.6832791514978379,
          0.7420187940487821,
          0.7420187940487821,
          0.7274992768850359
         ],
         "xaxis": "x",
         "y": [
          -130,
          -130,
          -150,
          -150
         ],
         "yaxis": "y"
        },
        {
         "hoverinfo": "text",
         "marker": {
          "color": "rgb(133,20,75)"
         },
         "mode": "lines",
         "text": [
          "수술실_설치_사회_정의_구성원",
          "",
          "",
          "간호사_윤리_권리_간호법_의료"
         ],
         "type": "scatter",
         "x": [
          0,
          0.8163384870749548,
          0.8163384870749548,
          0.7420187940487821
         ],
         "xaxis": "x",
         "y": [
          -115,
          -115,
          -140,
          -140
         ],
         "yaxis": "y"
        },
        {
         "hoverinfo": "text",
         "marker": {
          "color": "rgb(133,20,75)"
         },
         "mode": "lines",
         "text": [
          "안락사_생명_고통_죽음_인간",
          "",
          "",
          "교재_수능_개념_의견_단어"
         ],
         "type": "scatter",
         "x": [
          0,
          0.7530738420972356,
          0.7530738420972356,
          0
         ],
         "xaxis": "x",
         "y": [
          -165,
          -165,
          -175,
          -175
         ],
         "yaxis": "y"
        },
        {
         "hoverinfo": "text",
         "marker": {
          "color": "rgb(133,20,75)"
         },
         "mode": "lines",
         "text": [
          "안락사_생명_고통_죽음_인간",
          "",
          "",
          "과목_간호학_간호_교과_선택"
         ],
         "type": "scatter",
         "x": [
          0.7530738420972356,
          0.8981828208932792,
          0.8981828208932792,
          0
         ],
         "xaxis": "x",
         "y": [
          -170,
          -170,
          -185,
          -185
         ],
         "yaxis": "y"
        },
        {
         "hoverinfo": "text",
         "marker": {
          "color": "rgb(133,20,75)"
         },
         "mode": "lines",
         "text": [
          "간호사_윤리_권리_의료_간호법",
          "",
          "",
          "안락사_생명_고통_죽음_인간"
         ],
         "type": "scatter",
         "x": [
          0.8163384870749548,
          0.9238705582679936,
          0.9238705582679936,
          0.8981828208932792
         ],
         "xaxis": "x",
         "y": [
          -127.5,
          -127.5,
          -177.5,
          -177.5
         ],
         "yaxis": "y"
        },
        {
         "hoverinfo": "text",
         "marker": {
          "color": "rgb(0,116,217)"
         },
         "mode": "lines",
         "text": [
          "돌출_수술_교정_담배_치아",
          "",
          "",
          "안락사_생명_환자_간호사_고통"
         ],
         "type": "scatter",
         "x": [
          1.2212894023430798,
          1.2855039840351057,
          1.2855039840351057,
          0.9238705582679936
         ],
         "xaxis": "x",
         "y": [
          -67.8125,
          -67.8125,
          -152.5,
          -152.5
         ],
         "yaxis": "y"
        },
        {
         "hoverinfo": "text",
         "marker": {
          "color": "rgb(255,220,0)"
         },
         "mode": "lines",
         "text": [
          "교육_노인_요양_방문_법정",
          "",
          "",
          "노인_요양_방문_어르신_의정부"
         ],
         "type": "scatter",
         "x": [
          0,
          0.260495025016352,
          0.260495025016352,
          0
         ],
         "xaxis": "x",
         "y": [
          -195,
          -195,
          -205,
          -205
         ],
         "yaxis": "y"
        },
        {
         "hoverinfo": "text",
         "marker": {
          "color": "rgb(0,116,217)"
         },
         "mode": "lines",
         "text": [
          "돌출_수술_교정_담배_치아",
          "",
          "",
          "노인_요양_방문_교육_의정부"
         ],
         "type": "scatter",
         "x": [
          1.2855039840351057,
          1.3833237434267673,
          1.3833237434267673,
          0.260495025016352
         ],
         "xaxis": "x",
         "y": [
          -110.15625,
          -110.15625,
          -200,
          -200
         ],
         "yaxis": "y"
        },
        {
         "hoverinfo": "text",
         "marker": {
          "color": "rgb(40,35,35)"
         },
         "mode": "lines",
         "text": [
          "병원_입원_간호사_어머니_진료",
          "",
          "",
          "병원_보험_환자_의사_진료"
         ],
         "type": "scatter",
         "x": [
          0,
          0.3350835707677333,
          0.3350835707677333,
          0
         ],
         "xaxis": "x",
         "y": [
          -235,
          -235,
          -245,
          -245
         ],
         "yaxis": "y"
        },
        {
         "hoverinfo": "text",
         "marker": {
          "color": "rgb(40,35,35)"
         },
         "mode": "lines",
         "text": [
          "의료_한국_병원_분쟁_요양원",
          "",
          "",
          "병원_입원_환자_진료_의사"
         ],
         "type": "scatter",
         "x": [
          0,
          0.6117666738421854,
          0.6117666738421854,
          0.3350835707677333
         ],
         "xaxis": "x",
         "y": [
          -225,
          -225,
          -240,
          -240
         ],
         "yaxis": "y"
        },
        {
         "hoverinfo": "text",
         "marker": {
          "color": "rgb(40,35,35)"
         },
         "mode": "lines",
         "text": [
          "병원_환자_입원_진료_의사",
          "",
          "",
          "머피_가족_정신_아버지_저희"
         ],
         "type": "scatter",
         "x": [
          0.6117666738421854,
          0.6996856397812825,
          0.6996856397812825,
          0
         ],
         "xaxis": "x",
         "y": [
          -232.5,
          -232.5,
          -255,
          -255
         ],
         "yaxis": "y"
        },
        {
         "hoverinfo": "text",
         "marker": {
          "color": "rgb(40,35,35)"
         },
         "mode": "lines",
         "text": [
          "병원_힐링_순위_검색_요양",
          "",
          "",
          "병원_환자_입원_진료_의사"
         ],
         "type": "scatter",
         "x": [
          0,
          0.842200131865245,
          0.842200131865245,
          0.6996856397812825
         ],
         "xaxis": "x",
         "y": [
          -215,
          -215,
          -243.75,
          -243.75
         ],
         "yaxis": "y"
        },
        {
         "hoverinfo": "text",
         "marker": {
          "color": "rgb(61,153,112)"
         },
         "mode": "lines",
         "text": [
          "변호사_메디컬_사건_상담_의료",
          "",
          "",
          "의료_변호사_기록_소송_환자"
         ],
         "type": "scatter",
         "x": [
          0,
          0.4534906646825846,
          0.4534906646825846,
          0
         ],
         "xaxis": "x",
         "y": [
          -275,
          -275,
          -285,
          -285
         ],
         "yaxis": "y"
        },
        {
         "hoverinfo": "text",
         "marker": {
          "color": "rgb(61,153,112)"
         },
         "mode": "lines",
         "text": [
          "변호사_의료_기록_법률_소송",
          "",
          "",
          "이혼_재산_변호사_상속_분할"
         ],
         "type": "scatter",
         "x": [
          0.4534906646825846,
          0.7665593094782956,
          0.7665593094782956,
          0
         ],
         "xaxis": "x",
         "y": [
          -280,
          -280,
          -295,
          -295
         ],
         "yaxis": "y"
        },
        {
         "hoverinfo": "text",
         "marker": {
          "color": "rgb(61,153,112)"
         },
         "mode": "lines",
         "text": [
          "파산_채무_상환_대출_회생",
          "",
          "",
          "변호사_의료_소송_기록_법률"
         ],
         "type": "scatter",
         "x": [
          0,
          0.8699800751955091,
          0.8699800751955091,
          0.7665593094782956
         ],
         "xaxis": "x",
         "y": [
          -265,
          -265,
          -287.5,
          -287.5
         ],
         "yaxis": "y"
        },
        {
         "hoverinfo": "text",
         "marker": {
          "color": "rgb(61,153,112)"
         },
         "mode": "lines",
         "text": [
          "변호사_의료_기록_소송_법률",
          "",
          "",
          "경매_부동산_등기_토지_경화"
         ],
         "type": "scatter",
         "x": [
          0.8699800751955091,
          0.9495621668635115,
          0.9495621668635115,
          0
         ],
         "xaxis": "x",
         "y": [
          -276.25,
          -276.25,
          -305,
          -305
         ],
         "yaxis": "y"
        },
        {
         "hoverinfo": "text",
         "marker": {
          "color": "rgb(0,116,217)"
         },
         "mode": "lines",
         "text": [
          "병원_환자_입원_진료_의사",
          "",
          "",
          "변호사_의료_기록_소송_법률"
         ],
         "type": "scatter",
         "x": [
          0.842200131865245,
          1.0693888454714366,
          1.0693888454714366,
          0.9495621668635115
         ],
         "xaxis": "x",
         "y": [
          -229.375,
          -229.375,
          -290.625,
          -290.625
         ],
         "yaxis": "y"
        },
        {
         "hoverinfo": "text",
         "marker": {
          "color": "rgb(255,65,54)"
         },
         "mode": "lines",
         "text": [
          "보험_사고_자동차_교통사고_보상",
          "",
          "",
          "보험_가입_보장_보험료_실비"
         ],
         "type": "scatter",
         "x": [
          0,
          0.47306913652630633,
          0.47306913652630633,
          0
         ],
         "xaxis": "x",
         "y": [
          -315,
          -315,
          -325,
          -325
         ],
         "yaxis": "y"
        },
        {
         "hoverinfo": "text",
         "marker": {
          "color": "rgb(255,65,54)"
         },
         "mode": "lines",
         "text": [
          "보험_가입_사고_보장_보상",
          "",
          "",
          "보험_채팅_재무_오픈_카카오톡"
         ],
         "type": "scatter",
         "x": [
          0.47306913652630633,
          0.6988383411745149,
          0.6988383411745149,
          0
         ],
         "xaxis": "x",
         "y": [
          -320,
          -320,
          -335,
          -335
         ],
         "yaxis": "y"
        },
        {
         "hoverinfo": "text",
         "marker": {
          "color": "rgb(0,116,217)"
         },
         "mode": "lines",
         "text": [
          "병원_변호사_환자_의료_진료",
          "",
          "",
          "보험_가입_사고_보장_보상"
         ],
         "type": "scatter",
         "x": [
          1.0693888454714366,
          1.1246816795594792,
          1.1246816795594792,
          0.6988383411745149
         ],
         "xaxis": "x",
         "y": [
          -260,
          -260,
          -327.5,
          -327.5
         ],
         "yaxis": "y"
        },
        {
         "hoverinfo": "text",
         "marker": {
          "color": "rgb(0,116,217)"
         },
         "mode": "lines",
         "text": [
          "돌출_수술_교정_담배_치아",
          "",
          "",
          "보험_병원_환자_변호사_입원"
         ],
         "type": "scatter",
         "x": [
          1.3833237434267673,
          1.3886285850113864,
          1.3886285850113864,
          1.1246816795594792
         ],
         "xaxis": "x",
         "y": [
          -155.078125,
          -155.078125,
          -293.75,
          -293.75
         ],
         "yaxis": "y"
        },
        {
         "hoverinfo": "text",
         "marker": {
          "color": "rgb(35,205,205)"
         },
         "mode": "lines",
         "text": [
          "허리_디스크_신발_척추_운동",
          "",
          "",
          "허리_디스크_운동_신발_척추"
         ],
         "type": "scatter",
         "x": [
          0,
          0.047864875425486786,
          0.047864875425486786,
          0
         ],
         "xaxis": "x",
         "y": [
          -365,
          -365,
          -375,
          -375
         ],
         "yaxis": "y"
        },
        {
         "hoverinfo": "text",
         "marker": {
          "color": "rgb(35,205,205)"
         },
         "mode": "lines",
         "text": [
          "허리_디스크_운동_신발_척추",
          "",
          "",
          "검사_소견_허리_촬영_보험"
         ],
         "type": "scatter",
         "x": [
          0.047864875425486786,
          0.3762740778304176,
          0.3762740778304176,
          0
         ],
         "xaxis": "x",
         "y": [
          -370,
          -370,
          -385,
          -385
         ],
         "yaxis": "y"
        },
        {
         "hoverinfo": "text",
         "marker": {
          "color": "rgb(35,205,205)"
         },
         "mode": "lines",
         "text": [
          "경매_동산_유체_디스크_허리",
          "",
          "",
          "허리_디스크_운동_신발_척추"
         ],
         "type": "scatter",
         "x": [
          0,
          0.5246930212036599,
          0.5246930212036599,
          0.3762740778304176
         ],
         "xaxis": "x",
         "y": [
          -355,
          -355,
          -377.5,
          -377.5
         ],
         "yaxis": "y"
        },
        {
         "hoverinfo": "text",
         "marker": {
          "color": "rgb(35,205,205)"
         },
         "mode": "lines",
         "text": [
          "급여_협착증_실업_수급_퇴직금",
          "",
          "",
          "허리_디스크_운동_신발_척추"
         ],
         "type": "scatter",
         "x": [
          0,
          0.8264324136599759,
          0.8264324136599759,
          0.5246930212036599
         ],
         "xaxis": "x",
         "y": [
          -345,
          -345,
          -366.25,
          -366.25
         ],
         "yaxis": "y"
        },
        {
         "hoverinfo": "text",
         "marker": {
          "color": "rgb(61,153,112)"
         },
         "mode": "lines",
         "text": [
          "처방_복용_약물_약국_처방전",
          "",
          "",
          "검사_광우병_요산_통풍_회복"
         ],
         "type": "scatter",
         "x": [
          0,
          0.6712743606296179,
          0.6712743606296179,
          0
         ],
         "xaxis": "x",
         "y": [
          -405,
          -405,
          -415,
          -415
         ],
         "yaxis": "y"
        },
        {
         "hoverinfo": "text",
         "marker": {
          "color": "rgb(61,153,112)"
         },
         "mode": "lines",
         "text": [
          "당뇨_혈당_당뇨병_인슐린_비타민",
          "",
          "",
          "섭취_음식_근육_식단_영양사"
         ],
         "type": "scatter",
         "x": [
          0,
          0.6435603860643488,
          0.6435603860643488,
          0
         ],
         "xaxis": "x",
         "y": [
          -435,
          -435,
          -445,
          -445
         ],
         "yaxis": "y"
        },
        {
         "hoverinfo": "text",
         "marker": {
          "color": "rgb(61,153,112)"
         },
         "mode": "lines",
         "text": [
          "혈압_투여_콜레스테롤_혈증_심장",
          "",
          "",
          "당뇨_혈당_당뇨병_인슐린_섭취"
         ],
         "type": "scatter",
         "x": [
          0,
          0.6510949158971544,
          0.6510949158971544,
          0.6435603860643488
         ],
         "xaxis": "x",
         "y": [
          -425,
          -425,
          -440,
          -440
         ],
         "yaxis": "y"
        },
        {
         "hoverinfo": "text",
         "marker": {
          "color": "rgb(61,153,112)"
         },
         "mode": "lines",
         "text": [
          "복용_처방_처방전_약물_약국",
          "",
          "",
          "당뇨_혈당_당뇨병_인슐린_섭취"
         ],
         "type": "scatter",
         "x": [
          0.6712743606296179,
          0.783542773726645,
          0.783542773726645,
          0.6510949158971544
         ],
         "xaxis": "x",
         "y": [
          -410,
          -410,
          -432.5,
          -432.5
         ],
         "yaxis": "y"
        },
        {
         "hoverinfo": "text",
         "marker": {
          "color": "rgb(61,153,112)"
         },
         "mode": "lines",
         "text": [
          "천식_독감_기침_기름_호두",
          "",
          "",
          "당뇨_혈당_당뇨병_인슐린_섭취"
         ],
         "type": "scatter",
         "x": [
          0,
          0.8469182553977043,
          0.8469182553977043,
          0.783542773726645
         ],
         "xaxis": "x",
         "y": [
          -395,
          -395,
          -421.25,
          -421.25
         ],
         "yaxis": "y"
        },
        {
         "hoverinfo": "text",
         "marker": {
          "color": "rgb(255,65,54)"
         },
         "mode": "lines",
         "text": [
          "항암_세포_암세포_치료_섭취",
          "",
          "",
          "암세포_면역_균사체_기전_항암"
         ],
         "type": "scatter",
         "x": [
          0,
          0.42453217838219204,
          0.42453217838219204,
          0
         ],
         "xaxis": "x",
         "y": [
          -465,
          -465,
          -475,
          -475
         ],
         "yaxis": "y"
        },
        {
         "hoverinfo": "text",
         "marker": {
          "color": "rgb(255,65,54)"
         },
         "mode": "lines",
         "text": [
          "주사_면역_면역력_요법_겨우살이",
          "",
          "",
          "항암_암세포_세포_면역_물질"
         ],
         "type": "scatter",
         "x": [
          0,
          0.7400520074633054,
          0.7400520074633054,
          0.42453217838219204
         ],
         "xaxis": "x",
         "y": [
          -455,
          -455,
          -470,
          -470
         ],
         "yaxis": "y"
        },
        {
         "hoverinfo": "text",
         "marker": {
          "color": "rgb(255,65,54)"
         },
         "mode": "lines",
         "text": [
          "항암_암세포_면역_세포_물질",
          "",
          "",
          "비타민_유방암_수치_세포_여성"
         ],
         "type": "scatter",
         "x": [
          0.7400520074633054,
          0.831006100100152,
          0.831006100100152,
          0
         ],
         "xaxis": "x",
         "y": [
          -462.5,
          -462.5,
          -485,
          -485
         ],
         "yaxis": "y"
        },
        {
         "hoverinfo": "text",
         "marker": {
          "color": "rgb(0,116,217)"
         },
         "mode": "lines",
         "text": [
          "당뇨_혈당_당뇨병_인슐린_섭취",
          "",
          "",
          "항암_암세포_세포_면역_비타민"
         ],
         "type": "scatter",
         "x": [
          0.8469182553977043,
          1.0530099787052947,
          1.0530099787052947,
          0.831006100100152
         ],
         "xaxis": "x",
         "y": [
          -408.125,
          -408.125,
          -473.75,
          -473.75
         ],
         "yaxis": "y"
        },
        {
         "hoverinfo": "text",
         "marker": {
          "color": "rgb(0,116,217)"
         },
         "mode": "lines",
         "text": [
          "허리_디스크_운동_신발_척추",
          "",
          "",
          "항암_세포_당뇨_암세포_비타민"
         ],
         "type": "scatter",
         "x": [
          0.8264324136599759,
          1.4482142181026985,
          1.4482142181026985,
          1.0530099787052947
         ],
         "xaxis": "x",
         "y": [
          -355.625,
          -355.625,
          -440.9375,
          -440.9375
         ],
         "yaxis": "y"
        },
        {
         "hoverinfo": "text",
         "marker": {
          "color": "rgb(0,116,217)"
         },
         "mode": "lines",
         "text": [
          "돌출_수술_교정_환자_보험",
          "",
          "",
          "허리_디스크_운동_치료_신발"
         ],
         "type": "scatter",
         "x": [
          1.3886285850113864,
          1.6520781862731464,
          1.6520781862731464,
          1.4482142181026985
         ],
         "xaxis": "x",
         "y": [
          -224.4140625,
          -224.4140625,
          -398.28125,
          -398.28125
         ],
         "yaxis": "y"
        },
        {
         "hoverinfo": "text",
         "hovertext": [
          "백신_접종_코로나_감염_에이즈",
          "우울증_심리_정신_우울_강박",
          "담배_백신_보건소_친구_접종",
          "돌출_수술_교정_치아_치과",
          "담배_친구_백신_보건소_사람",
          "간호사_윤리_간호법_간호_의료",
          "안락사_생명_고통_죽음_인간",
          "간호사_윤리_권리_의료_간호법",
          "돌출_수술_교정_담배_치아",
          "돌출_수술_교정_담배_치아",
          "병원_환자_입원_진료_의사",
          "변호사_의료_기록_법률_소송",
          "변호사_의료_기록_소송_법률",
          "병원_환자_입원_진료_의사",
          "보험_가입_사고_보장_보상",
          "병원_변호사_환자_의료_진료",
          "돌출_수술_교정_담배_치아",
          "허리_디스크_운동_신발_척추",
          "복용_처방_처방전_약물_약국",
          "항암_암세포_면역_세포_물질",
          "당뇨_혈당_당뇨병_인슐린_섭취",
          "허리_디스크_운동_신발_척추",
          "돌출_수술_교정_환자_보험"
         ],
         "marker": {
          "color": "black"
         },
         "mode": "markers",
         "showlegend": false,
         "type": "scatter",
         "x": [
          0.8917951920917153,
          0.6496902766086289,
          0.9898447047821737,
          0.5902555301263068,
          1.09567292034062,
          0.6832791514978379,
          0.7530738420972356,
          0.8163384870749548,
          1.2212894023430798,
          1.2855039840351057,
          0.6117666738421854,
          0.4534906646825846,
          0.8699800751955091,
          0.842200131865245,
          0.47306913652630633,
          1.0693888454714366,
          1.3833237434267673,
          0.047864875425486786,
          0.6712743606296179,
          0.7400520074633054,
          0.8469182553977043,
          0.8264324136599759,
          1.3886285850113864
         ],
         "y": [
          -10,
          -60,
          -20,
          -90,
          -38.125,
          -130,
          -170,
          -127.5,
          -67.8125,
          -110.15625,
          -232.5,
          -280,
          -276.25,
          -229.375,
          -320,
          -260,
          -155.078125,
          -370,
          -410,
          -462.5,
          -408.125,
          -355.625,
          -224.4140625
         ]
        },
        {
         "hoverinfo": "text",
         "hovertext": [
          "담배_보건소_친구_문자_금연",
          "우울증_정신_심리_장애_우울",
          "우울증_정신_심리_장애_증상",
          "돌출_수술_교정_치아_치과",
          "권리_환자_진료_의무_보호",
          "간호사_윤리_권리_간호법_의료",
          "안락사_생명_고통_죽음_인간",
          "안락사_생명_환자_간호사_고통",
          "노인_요양_방문_교육_의정부",
          "병원_입원_환자_진료_의사",
          "병원_환자_입원_진료_의사",
          "변호사_의료_소송_기록_법률",
          "변호사_의료_기록_소송_법률",
          "보험_가입_사고_보장_보상",
          "보험_병원_환자_변호사_입원",
          "허리_디스크_운동_신발_척추",
          "허리_디스크_운동_신발_척추",
          "당뇨_혈당_당뇨병_인슐린_섭취",
          "당뇨_혈당_당뇨병_인슐린_섭취",
          "당뇨_혈당_당뇨병_인슐린_섭취",
          "항암_암세포_세포_면역_물질",
          "항암_암세포_세포_면역_비타민",
          "항암_세포_당뇨_암세포_비타민",
          "허리_디스크_운동_치료_신발"
         ],
         "marker": {
          "color": "black"
         },
         "mode": "markers",
         "showlegend": false,
         "type": "scatter",
         "x": [
          0.9615333900551927,
          0.736702922092964,
          0.9010075245168172,
          0.7078067373763426,
          0.7274992768850359,
          0.7420187940487821,
          0.8981828208932792,
          0.9238705582679936,
          0.260495025016352,
          0.3350835707677333,
          0.6996856397812825,
          0.7665593094782956,
          0.9495621668635115,
          0.6988383411745149,
          1.1246816795594792,
          0.3762740778304176,
          0.5246930212036599,
          0.6435603860643488,
          0.6510949158971544,
          0.783542773726645,
          0.42453217838219204,
          0.831006100100152,
          1.0530099787052947,
          1.4482142181026985
         ],
         "y": [
          -30,
          -67.5,
          -56.25,
          -97.5,
          -150,
          -140,
          -177.5,
          -152.5,
          -200,
          -240,
          -243.75,
          -287.5,
          -290.625,
          -327.5,
          -293.75,
          -377.5,
          -366.25,
          -440,
          -432.5,
          -421.25,
          -470,
          -473.75,
          -440.9375,
          -398.28125
         ]
        }
       ],
       "layout": {
        "autosize": false,
        "height": 935,
        "hoverlabel": {
         "bgcolor": "white",
         "font": {
          "family": "Rockwell",
          "size": 16
         }
        },
        "hovermode": "closest",
        "plot_bgcolor": "#ECEFF1",
        "showlegend": false,
        "template": {
         "data": {
          "bar": [
           {
            "error_x": {
             "color": "#2a3f5f"
            },
            "error_y": {
             "color": "#2a3f5f"
            },
            "marker": {
             "line": {
              "color": "white",
              "width": 0.5
             },
             "pattern": {
              "fillmode": "overlay",
              "size": 10,
              "solidity": 0.2
             }
            },
            "type": "bar"
           }
          ],
          "barpolar": [
           {
            "marker": {
             "line": {
              "color": "white",
              "width": 0.5
             },
             "pattern": {
              "fillmode": "overlay",
              "size": 10,
              "solidity": 0.2
             }
            },
            "type": "barpolar"
           }
          ],
          "carpet": [
           {
            "aaxis": {
             "endlinecolor": "#2a3f5f",
             "gridcolor": "#C8D4E3",
             "linecolor": "#C8D4E3",
             "minorgridcolor": "#C8D4E3",
             "startlinecolor": "#2a3f5f"
            },
            "baxis": {
             "endlinecolor": "#2a3f5f",
             "gridcolor": "#C8D4E3",
             "linecolor": "#C8D4E3",
             "minorgridcolor": "#C8D4E3",
             "startlinecolor": "#2a3f5f"
            },
            "type": "carpet"
           }
          ],
          "choropleth": [
           {
            "colorbar": {
             "outlinewidth": 0,
             "ticks": ""
            },
            "type": "choropleth"
           }
          ],
          "contour": [
           {
            "colorbar": {
             "outlinewidth": 0,
             "ticks": ""
            },
            "colorscale": [
             [
              0,
              "#0d0887"
             ],
             [
              0.1111111111111111,
              "#46039f"
             ],
             [
              0.2222222222222222,
              "#7201a8"
             ],
             [
              0.3333333333333333,
              "#9c179e"
             ],
             [
              0.4444444444444444,
              "#bd3786"
             ],
             [
              0.5555555555555556,
              "#d8576b"
             ],
             [
              0.6666666666666666,
              "#ed7953"
             ],
             [
              0.7777777777777778,
              "#fb9f3a"
             ],
             [
              0.8888888888888888,
              "#fdca26"
             ],
             [
              1,
              "#f0f921"
             ]
            ],
            "type": "contour"
           }
          ],
          "contourcarpet": [
           {
            "colorbar": {
             "outlinewidth": 0,
             "ticks": ""
            },
            "type": "contourcarpet"
           }
          ],
          "heatmap": [
           {
            "colorbar": {
             "outlinewidth": 0,
             "ticks": ""
            },
            "colorscale": [
             [
              0,
              "#0d0887"
             ],
             [
              0.1111111111111111,
              "#46039f"
             ],
             [
              0.2222222222222222,
              "#7201a8"
             ],
             [
              0.3333333333333333,
              "#9c179e"
             ],
             [
              0.4444444444444444,
              "#bd3786"
             ],
             [
              0.5555555555555556,
              "#d8576b"
             ],
             [
              0.6666666666666666,
              "#ed7953"
             ],
             [
              0.7777777777777778,
              "#fb9f3a"
             ],
             [
              0.8888888888888888,
              "#fdca26"
             ],
             [
              1,
              "#f0f921"
             ]
            ],
            "type": "heatmap"
           }
          ],
          "heatmapgl": [
           {
            "colorbar": {
             "outlinewidth": 0,
             "ticks": ""
            },
            "colorscale": [
             [
              0,
              "#0d0887"
             ],
             [
              0.1111111111111111,
              "#46039f"
             ],
             [
              0.2222222222222222,
              "#7201a8"
             ],
             [
              0.3333333333333333,
              "#9c179e"
             ],
             [
              0.4444444444444444,
              "#bd3786"
             ],
             [
              0.5555555555555556,
              "#d8576b"
             ],
             [
              0.6666666666666666,
              "#ed7953"
             ],
             [
              0.7777777777777778,
              "#fb9f3a"
             ],
             [
              0.8888888888888888,
              "#fdca26"
             ],
             [
              1,
              "#f0f921"
             ]
            ],
            "type": "heatmapgl"
           }
          ],
          "histogram": [
           {
            "marker": {
             "pattern": {
              "fillmode": "overlay",
              "size": 10,
              "solidity": 0.2
             }
            },
            "type": "histogram"
           }
          ],
          "histogram2d": [
           {
            "colorbar": {
             "outlinewidth": 0,
             "ticks": ""
            },
            "colorscale": [
             [
              0,
              "#0d0887"
             ],
             [
              0.1111111111111111,
              "#46039f"
             ],
             [
              0.2222222222222222,
              "#7201a8"
             ],
             [
              0.3333333333333333,
              "#9c179e"
             ],
             [
              0.4444444444444444,
              "#bd3786"
             ],
             [
              0.5555555555555556,
              "#d8576b"
             ],
             [
              0.6666666666666666,
              "#ed7953"
             ],
             [
              0.7777777777777778,
              "#fb9f3a"
             ],
             [
              0.8888888888888888,
              "#fdca26"
             ],
             [
              1,
              "#f0f921"
             ]
            ],
            "type": "histogram2d"
           }
          ],
          "histogram2dcontour": [
           {
            "colorbar": {
             "outlinewidth": 0,
             "ticks": ""
            },
            "colorscale": [
             [
              0,
              "#0d0887"
             ],
             [
              0.1111111111111111,
              "#46039f"
             ],
             [
              0.2222222222222222,
              "#7201a8"
             ],
             [
              0.3333333333333333,
              "#9c179e"
             ],
             [
              0.4444444444444444,
              "#bd3786"
             ],
             [
              0.5555555555555556,
              "#d8576b"
             ],
             [
              0.6666666666666666,
              "#ed7953"
             ],
             [
              0.7777777777777778,
              "#fb9f3a"
             ],
             [
              0.8888888888888888,
              "#fdca26"
             ],
             [
              1,
              "#f0f921"
             ]
            ],
            "type": "histogram2dcontour"
           }
          ],
          "mesh3d": [
           {
            "colorbar": {
             "outlinewidth": 0,
             "ticks": ""
            },
            "type": "mesh3d"
           }
          ],
          "parcoords": [
           {
            "line": {
             "colorbar": {
              "outlinewidth": 0,
              "ticks": ""
             }
            },
            "type": "parcoords"
           }
          ],
          "pie": [
           {
            "automargin": true,
            "type": "pie"
           }
          ],
          "scatter": [
           {
            "fillpattern": {
             "fillmode": "overlay",
             "size": 10,
             "solidity": 0.2
            },
            "type": "scatter"
           }
          ],
          "scatter3d": [
           {
            "line": {
             "colorbar": {
              "outlinewidth": 0,
              "ticks": ""
             }
            },
            "marker": {
             "colorbar": {
              "outlinewidth": 0,
              "ticks": ""
             }
            },
            "type": "scatter3d"
           }
          ],
          "scattercarpet": [
           {
            "marker": {
             "colorbar": {
              "outlinewidth": 0,
              "ticks": ""
             }
            },
            "type": "scattercarpet"
           }
          ],
          "scattergeo": [
           {
            "marker": {
             "colorbar": {
              "outlinewidth": 0,
              "ticks": ""
             }
            },
            "type": "scattergeo"
           }
          ],
          "scattergl": [
           {
            "marker": {
             "colorbar": {
              "outlinewidth": 0,
              "ticks": ""
             }
            },
            "type": "scattergl"
           }
          ],
          "scattermapbox": [
           {
            "marker": {
             "colorbar": {
              "outlinewidth": 0,
              "ticks": ""
             }
            },
            "type": "scattermapbox"
           }
          ],
          "scatterpolar": [
           {
            "marker": {
             "colorbar": {
              "outlinewidth": 0,
              "ticks": ""
             }
            },
            "type": "scatterpolar"
           }
          ],
          "scatterpolargl": [
           {
            "marker": {
             "colorbar": {
              "outlinewidth": 0,
              "ticks": ""
             }
            },
            "type": "scatterpolargl"
           }
          ],
          "scatterternary": [
           {
            "marker": {
             "colorbar": {
              "outlinewidth": 0,
              "ticks": ""
             }
            },
            "type": "scatterternary"
           }
          ],
          "surface": [
           {
            "colorbar": {
             "outlinewidth": 0,
             "ticks": ""
            },
            "colorscale": [
             [
              0,
              "#0d0887"
             ],
             [
              0.1111111111111111,
              "#46039f"
             ],
             [
              0.2222222222222222,
              "#7201a8"
             ],
             [
              0.3333333333333333,
              "#9c179e"
             ],
             [
              0.4444444444444444,
              "#bd3786"
             ],
             [
              0.5555555555555556,
              "#d8576b"
             ],
             [
              0.6666666666666666,
              "#ed7953"
             ],
             [
              0.7777777777777778,
              "#fb9f3a"
             ],
             [
              0.8888888888888888,
              "#fdca26"
             ],
             [
              1,
              "#f0f921"
             ]
            ],
            "type": "surface"
           }
          ],
          "table": [
           {
            "cells": {
             "fill": {
              "color": "#EBF0F8"
             },
             "line": {
              "color": "white"
             }
            },
            "header": {
             "fill": {
              "color": "#C8D4E3"
             },
             "line": {
              "color": "white"
             }
            },
            "type": "table"
           }
          ]
         },
         "layout": {
          "annotationdefaults": {
           "arrowcolor": "#2a3f5f",
           "arrowhead": 0,
           "arrowwidth": 1
          },
          "autotypenumbers": "strict",
          "coloraxis": {
           "colorbar": {
            "outlinewidth": 0,
            "ticks": ""
           }
          },
          "colorscale": {
           "diverging": [
            [
             0,
             "#8e0152"
            ],
            [
             0.1,
             "#c51b7d"
            ],
            [
             0.2,
             "#de77ae"
            ],
            [
             0.3,
             "#f1b6da"
            ],
            [
             0.4,
             "#fde0ef"
            ],
            [
             0.5,
             "#f7f7f7"
            ],
            [
             0.6,
             "#e6f5d0"
            ],
            [
             0.7,
             "#b8e186"
            ],
            [
             0.8,
             "#7fbc41"
            ],
            [
             0.9,
             "#4d9221"
            ],
            [
             1,
             "#276419"
            ]
           ],
           "sequential": [
            [
             0,
             "#0d0887"
            ],
            [
             0.1111111111111111,
             "#46039f"
            ],
            [
             0.2222222222222222,
             "#7201a8"
            ],
            [
             0.3333333333333333,
             "#9c179e"
            ],
            [
             0.4444444444444444,
             "#bd3786"
            ],
            [
             0.5555555555555556,
             "#d8576b"
            ],
            [
             0.6666666666666666,
             "#ed7953"
            ],
            [
             0.7777777777777778,
             "#fb9f3a"
            ],
            [
             0.8888888888888888,
             "#fdca26"
            ],
            [
             1,
             "#f0f921"
            ]
           ],
           "sequentialminus": [
            [
             0,
             "#0d0887"
            ],
            [
             0.1111111111111111,
             "#46039f"
            ],
            [
             0.2222222222222222,
             "#7201a8"
            ],
            [
             0.3333333333333333,
             "#9c179e"
            ],
            [
             0.4444444444444444,
             "#bd3786"
            ],
            [
             0.5555555555555556,
             "#d8576b"
            ],
            [
             0.6666666666666666,
             "#ed7953"
            ],
            [
             0.7777777777777778,
             "#fb9f3a"
            ],
            [
             0.8888888888888888,
             "#fdca26"
            ],
            [
             1,
             "#f0f921"
            ]
           ]
          },
          "colorway": [
           "#636efa",
           "#EF553B",
           "#00cc96",
           "#ab63fa",
           "#FFA15A",
           "#19d3f3",
           "#FF6692",
           "#B6E880",
           "#FF97FF",
           "#FECB52"
          ],
          "font": {
           "color": "#2a3f5f"
          },
          "geo": {
           "bgcolor": "white",
           "lakecolor": "white",
           "landcolor": "white",
           "showlakes": true,
           "showland": true,
           "subunitcolor": "#C8D4E3"
          },
          "hoverlabel": {
           "align": "left"
          },
          "hovermode": "closest",
          "mapbox": {
           "style": "light"
          },
          "paper_bgcolor": "white",
          "plot_bgcolor": "white",
          "polar": {
           "angularaxis": {
            "gridcolor": "#EBF0F8",
            "linecolor": "#EBF0F8",
            "ticks": ""
           },
           "bgcolor": "white",
           "radialaxis": {
            "gridcolor": "#EBF0F8",
            "linecolor": "#EBF0F8",
            "ticks": ""
           }
          },
          "scene": {
           "xaxis": {
            "backgroundcolor": "white",
            "gridcolor": "#DFE8F3",
            "gridwidth": 2,
            "linecolor": "#EBF0F8",
            "showbackground": true,
            "ticks": "",
            "zerolinecolor": "#EBF0F8"
           },
           "yaxis": {
            "backgroundcolor": "white",
            "gridcolor": "#DFE8F3",
            "gridwidth": 2,
            "linecolor": "#EBF0F8",
            "showbackground": true,
            "ticks": "",
            "zerolinecolor": "#EBF0F8"
           },
           "zaxis": {
            "backgroundcolor": "white",
            "gridcolor": "#DFE8F3",
            "gridwidth": 2,
            "linecolor": "#EBF0F8",
            "showbackground": true,
            "ticks": "",
            "zerolinecolor": "#EBF0F8"
           }
          },
          "shapedefaults": {
           "line": {
            "color": "#2a3f5f"
           }
          },
          "ternary": {
           "aaxis": {
            "gridcolor": "#DFE8F3",
            "linecolor": "#A2B1C6",
            "ticks": ""
           },
           "baxis": {
            "gridcolor": "#DFE8F3",
            "linecolor": "#A2B1C6",
            "ticks": ""
           },
           "bgcolor": "white",
           "caxis": {
            "gridcolor": "#DFE8F3",
            "linecolor": "#A2B1C6",
            "ticks": ""
           }
          },
          "title": {
           "x": 0.05
          },
          "xaxis": {
           "automargin": true,
           "gridcolor": "#EBF0F8",
           "linecolor": "#EBF0F8",
           "ticks": "",
           "title": {
            "standoff": 15
           },
           "zerolinecolor": "#EBF0F8",
           "zerolinewidth": 2
          },
          "yaxis": {
           "automargin": true,
           "gridcolor": "#EBF0F8",
           "linecolor": "#EBF0F8",
           "ticks": "",
           "title": {
            "standoff": 15
           },
           "zerolinecolor": "#EBF0F8",
           "zerolinewidth": 2
          }
         }
        },
        "title": {
         "font": {
          "color": "Black",
          "size": 22
         },
         "text": "<b>Hierarchical Clustering</b>",
         "x": 0.5,
         "xanchor": "center",
         "yanchor": "top"
        },
        "width": 1000,
        "xaxis": {
         "mirror": "allticks",
         "rangemode": "tozero",
         "showgrid": false,
         "showline": true,
         "showticklabels": true,
         "ticks": "outside",
         "type": "linear",
         "zeroline": false
        },
        "yaxis": {
         "mirror": "allticks",
         "range": [
          -490,
          0
         ],
         "rangemode": "tozero",
         "showgrid": false,
         "showline": true,
         "showticklabels": true,
         "tickmode": "array",
         "ticks": "outside",
         "ticktext": [
          "24_백신_접종_코로나",
          "40_에이즈_감염_염인",
          "42_자궁_불출석_임신",
          "9_담배_보건소_친구",
          "46_트랜_성욕_여자",
          "48_불면증_발작_수면제",
          "12_우울증_심리_정신",
          "28_치매_뇌전증_발작",
          "4_얼굴_광대뼈_수술",
          "14_돌출_교정_수술",
          "27_치과_플란트_교정",
          "37_수술실_설치_사회",
          "11_간호사_간호법_간호",
          "19_윤리_의료_사회",
          "23_권리_진료_의무",
          "45_불만_의사소통_상황",
          "7_안락사_생명_고통",
          "0_교재_수능_개념",
          "36_과목_간호학_간호",
          "34_교육_노인_요양",
          "44_노인_요양_방문",
          "33_병원_힐링_순위",
          "25_의료_한국_병원",
          "6_병원_입원_간호사",
          "1_병원_보험_환자",
          "21_머피_가족_정신",
          "26_파산_채무_상환",
          "30_변호사_메디컬_사건",
          "5_의료_변호사_기록",
          "32_이혼_재산_변호사",
          "38_경매_부동산_등기",
          "10_보험_사고_자동차",
          "13_보험_가입_보장",
          "39_보험_채팅_재무",
          "29_급여_협착증_실업",
          "15_경매_동산_유체",
          "47_허리_디스크_신발",
          "3_허리_디스크_운동",
          "31_검사_소견_허리",
          "20_천식_독감_기침",
          "16_처방_복용_약물",
          "22_검사_광우병_요산",
          "18_혈압_투여_콜레스테롤",
          "8_당뇨_혈당_당뇨병",
          "17_섭취_음식_근육",
          "43_주사_면역_면역력",
          "2_항암_세포_암세포",
          "35_암세포_면역_균사체",
          "41_비타민_유방암_수치"
         ],
         "tickvals": [
          -5,
          -15,
          -25,
          -35,
          -45,
          -55,
          -65,
          -75,
          -85,
          -95,
          -105,
          -115,
          -125,
          -135,
          -145,
          -155,
          -165,
          -175,
          -185,
          -195,
          -205,
          -215,
          -225,
          -235,
          -245,
          -255,
          -265,
          -275,
          -285,
          -295,
          -305,
          -315,
          -325,
          -335,
          -345,
          -355,
          -365,
          -375,
          -385,
          -395,
          -405,
          -415,
          -425,
          -435,
          -445,
          -455,
          -465,
          -475,
          -485
         ],
         "type": "linear",
         "zeroline": false
        }
       }
      },
      "text/html": [
       "<div>                        <script type=\"text/javascript\">window.PlotlyConfig = {MathJaxConfig: 'local'};</script>\n",
       "        <script charset=\"utf-8\" src=\"https://cdn.plot.ly/plotly-2.27.0.min.js\"></script>                <div id=\"2865368a-aac2-483a-8397-4ad984ae0486\" class=\"plotly-graph-div\" style=\"height:935px; width:1000px;\"></div>            <script type=\"text/javascript\">                                    window.PLOTLYENV=window.PLOTLYENV || {};                                    if (document.getElementById(\"2865368a-aac2-483a-8397-4ad984ae0486\")) {                    Plotly.newPlot(                        \"2865368a-aac2-483a-8397-4ad984ae0486\",                        [{\"hoverinfo\":\"text\",\"marker\":{\"color\":\"rgb(61,153,112)\"},\"mode\":\"lines\",\"text\":[\"\\ubc31\\uc2e0_\\uc811\\uc885_\\ucf54\\ub85c\\ub098_\\ubc14\\uc774\\ub7ec\\uc2a4_\\uc0ac\\ub9dd\",\"\",\"\",\"\\uc5d0\\uc774\\uc988_\\uac10\\uc5fc_\\uc5fc\\uc778_\\ubc14\\uc774\\ub7ec\\uc2a4_\\ubaa8\\uae30\"],\"x\":[0.0,0.8917951920917153,0.8917951920917153,0.0],\"xaxis\":\"x\",\"y\":[-5.0,-5.0,-15.0,-15.0],\"yaxis\":\"y\",\"type\":\"scatter\"},{\"hoverinfo\":\"text\",\"marker\":{\"color\":\"rgb(61,153,112)\"},\"mode\":\"lines\",\"text\":[\"\\uc790\\uad81_\\ubd88\\ucd9c\\uc11d_\\uc784\\uc2e0_\\uadfc\\uc885_\\uc801\\ucd9c\",\"\",\"\",\"\\ub2f4\\ubc30_\\ubcf4\\uac74\\uc18c_\\uce5c\\uad6c_\\ubb38\\uc790_\\uae08\\uc5f0\"],\"x\":[0.0,0.9615333900551927,0.9615333900551927,0.0],\"xaxis\":\"x\",\"y\":[-25.0,-25.0,-35.0,-35.0],\"yaxis\":\"y\",\"type\":\"scatter\"},{\"hoverinfo\":\"text\",\"marker\":{\"color\":\"rgb(61,153,112)\"},\"mode\":\"lines\",\"text\":[\"\\ubc31\\uc2e0_\\uc811\\uc885_\\ucf54\\ub85c\\ub098_\\uac10\\uc5fc_\\uc5d0\\uc774\\uc988\",\"\",\"\",\"\\ub2f4\\ubc30_\\ubcf4\\uac74\\uc18c_\\uce5c\\uad6c_\\ubb38\\uc790_\\uae08\\uc5f0\"],\"x\":[0.8917951920917153,0.9898447047821737,0.9898447047821737,0.9615333900551927],\"xaxis\":\"x\",\"y\":[-10.0,-10.0,-30.0,-30.0],\"yaxis\":\"y\",\"type\":\"scatter\"},{\"hoverinfo\":\"text\",\"marker\":{\"color\":\"rgb(255,65,54)\"},\"mode\":\"lines\",\"text\":[\"\\ubd88\\uba74\\uc99d_\\ubc1c\\uc791_\\uc218\\uba74\\uc81c_\\uacf5\\ud669_\\ud604\\uc99d\",\"\",\"\",\"\\uc6b0\\uc6b8\\uc99d_\\uc2ec\\ub9ac_\\uc815\\uc2e0_\\uc6b0\\uc6b8_\\uac15\\ubc15\"],\"x\":[0.0,0.6496902766086289,0.6496902766086289,0.0],\"xaxis\":\"x\",\"y\":[-55.0,-55.0,-65.0,-65.0],\"yaxis\":\"y\",\"type\":\"scatter\"},{\"hoverinfo\":\"text\",\"marker\":{\"color\":\"rgb(255,65,54)\"},\"mode\":\"lines\",\"text\":[\"\\uc6b0\\uc6b8\\uc99d_\\uc2ec\\ub9ac_\\uc815\\uc2e0_\\uc6b0\\uc6b8_\\uac15\\ubc15\",\"\",\"\",\"\\uce58\\ub9e4_\\ub1cc\\uc804\\uc99d_\\ubc1c\\uc791_\\uae30\\uc5b5\\ub825_\\uc9c0\\ub825\"],\"x\":[0.6496902766086289,0.736702922092964,0.736702922092964,0.0],\"xaxis\":\"x\",\"y\":[-60.0,-60.0,-75.0,-75.0],\"yaxis\":\"y\",\"type\":\"scatter\"},{\"hoverinfo\":\"text\",\"marker\":{\"color\":\"rgb(255,65,54)\"},\"mode\":\"lines\",\"text\":[\"\\ud2b8\\ub79c_\\uc131\\uc695_\\uc5ec\\uc790_\\uc695\\uad6c_\\ub0a8\\uc790\",\"\",\"\",\"\\uc6b0\\uc6b8\\uc99d_\\uc815\\uc2e0_\\uc2ec\\ub9ac_\\uc7a5\\uc560_\\uc6b0\\uc6b8\"],\"x\":[0.0,0.9010075245168172,0.9010075245168172,0.736702922092964],\"xaxis\":\"x\",\"y\":[-45.0,-45.0,-67.5,-67.5],\"yaxis\":\"y\",\"type\":\"scatter\"},{\"hoverinfo\":\"text\",\"marker\":{\"color\":\"rgb(0,116,217)\"},\"mode\":\"lines\",\"text\":[\"\\ub2f4\\ubc30_\\ubc31\\uc2e0_\\ubcf4\\uac74\\uc18c_\\uce5c\\uad6c_\\uc811\\uc885\",\"\",\"\",\"\\uc6b0\\uc6b8\\uc99d_\\uc815\\uc2e0_\\uc2ec\\ub9ac_\\uc7a5\\uc560_\\uc99d\\uc0c1\"],\"x\":[0.9898447047821737,1.09567292034062,1.09567292034062,0.9010075245168172],\"xaxis\":\"x\",\"y\":[-20.0,-20.0,-56.25,-56.25],\"yaxis\":\"y\",\"type\":\"scatter\"},{\"hoverinfo\":\"text\",\"marker\":{\"color\":\"rgb(35,205,205)\"},\"mode\":\"lines\",\"text\":[\"\\uc5bc\\uad74_\\uad11\\ub300\\ubf08_\\uc218\\uc220_\\uad11\\ub300_\\ucd95\\uc18c\",\"\",\"\",\"\\ub3cc\\ucd9c_\\uad50\\uc815_\\uc218\\uc220_\\uce58\\uc544_\\uce58\\uacfc\"],\"x\":[0.0,0.5902555301263068,0.5902555301263068,0.0],\"xaxis\":\"x\",\"y\":[-85.0,-85.0,-95.0,-95.0],\"yaxis\":\"y\",\"type\":\"scatter\"},{\"hoverinfo\":\"text\",\"marker\":{\"color\":\"rgb(35,205,205)\"},\"mode\":\"lines\",\"text\":[\"\\ub3cc\\ucd9c_\\uc218\\uc220_\\uad50\\uc815_\\uce58\\uc544_\\uce58\\uacfc\",\"\",\"\",\"\\uce58\\uacfc_\\ud50c\\ub780\\ud2b8_\\uad50\\uc815_\\ube44\\uc6a9_\\uce58\\uc544\"],\"x\":[0.5902555301263068,0.7078067373763426,0.7078067373763426,0.0],\"xaxis\":\"x\",\"y\":[-90.0,-90.0,-105.0,-105.0],\"yaxis\":\"y\",\"type\":\"scatter\"},{\"hoverinfo\":\"text\",\"marker\":{\"color\":\"rgb(0,116,217)\"},\"mode\":\"lines\",\"text\":[\"\\ub2f4\\ubc30_\\uce5c\\uad6c_\\ubc31\\uc2e0_\\ubcf4\\uac74\\uc18c_\\uc0ac\\ub78c\",\"\",\"\",\"\\ub3cc\\ucd9c_\\uc218\\uc220_\\uad50\\uc815_\\uce58\\uc544_\\uce58\\uacfc\"],\"x\":[1.09567292034062,1.2212894023430798,1.2212894023430798,0.7078067373763426],\"xaxis\":\"x\",\"y\":[-38.125,-38.125,-97.5,-97.5],\"yaxis\":\"y\",\"type\":\"scatter\"},{\"hoverinfo\":\"text\",\"marker\":{\"color\":\"rgb(133,20,75)\"},\"mode\":\"lines\",\"text\":[\"\\uac04\\ud638\\uc0ac_\\uac04\\ud638\\ubc95_\\uac04\\ud638_\\uc724\\ub9ac_\\uc81c\\uc815\",\"\",\"\",\"\\uc724\\ub9ac_\\uc758\\ub8cc_\\uc0ac\\ud68c_\\uc8fc\\uc81c_\\ubd84\\uc57c\"],\"x\":[0.0,0.6832791514978379,0.6832791514978379,0.0],\"xaxis\":\"x\",\"y\":[-125.0,-125.0,-135.0,-135.0],\"yaxis\":\"y\",\"type\":\"scatter\"},{\"hoverinfo\":\"text\",\"marker\":{\"color\":\"rgb(133,20,75)\"},\"mode\":\"lines\",\"text\":[\"\\uad8c\\ub9ac_\\uc9c4\\ub8cc_\\uc758\\ubb34_\\ube44\\ubc00_\\ud658\\uc790\",\"\",\"\",\"\\ubd88\\ub9cc_\\uc758\\uc0ac\\uc18c\\ud1b5_\\uc0c1\\ud669_\\ud658\\uc790_\\uc758\\uc0ac\"],\"x\":[0.0,0.7274992768850359,0.7274992768850359,0.0],\"xaxis\":\"x\",\"y\":[-145.0,-145.0,-155.0,-155.0],\"yaxis\":\"y\",\"type\":\"scatter\"},{\"hoverinfo\":\"text\",\"marker\":{\"color\":\"rgb(133,20,75)\"},\"mode\":\"lines\",\"text\":[\"\\uac04\\ud638\\uc0ac_\\uc724\\ub9ac_\\uac04\\ud638\\ubc95_\\uac04\\ud638_\\uc758\\ub8cc\",\"\",\"\",\"\\uad8c\\ub9ac_\\ud658\\uc790_\\uc9c4\\ub8cc_\\uc758\\ubb34_\\ubcf4\\ud638\"],\"x\":[0.6832791514978379,0.7420187940487821,0.7420187940487821,0.7274992768850359],\"xaxis\":\"x\",\"y\":[-130.0,-130.0,-150.0,-150.0],\"yaxis\":\"y\",\"type\":\"scatter\"},{\"hoverinfo\":\"text\",\"marker\":{\"color\":\"rgb(133,20,75)\"},\"mode\":\"lines\",\"text\":[\"\\uc218\\uc220\\uc2e4_\\uc124\\uce58_\\uc0ac\\ud68c_\\uc815\\uc758_\\uad6c\\uc131\\uc6d0\",\"\",\"\",\"\\uac04\\ud638\\uc0ac_\\uc724\\ub9ac_\\uad8c\\ub9ac_\\uac04\\ud638\\ubc95_\\uc758\\ub8cc\"],\"x\":[0.0,0.8163384870749548,0.8163384870749548,0.7420187940487821],\"xaxis\":\"x\",\"y\":[-115.0,-115.0,-140.0,-140.0],\"yaxis\":\"y\",\"type\":\"scatter\"},{\"hoverinfo\":\"text\",\"marker\":{\"color\":\"rgb(133,20,75)\"},\"mode\":\"lines\",\"text\":[\"\\uc548\\ub77d\\uc0ac_\\uc0dd\\uba85_\\uace0\\ud1b5_\\uc8fd\\uc74c_\\uc778\\uac04\",\"\",\"\",\"\\uad50\\uc7ac_\\uc218\\ub2a5_\\uac1c\\ub150_\\uc758\\uacac_\\ub2e8\\uc5b4\"],\"x\":[0.0,0.7530738420972356,0.7530738420972356,0.0],\"xaxis\":\"x\",\"y\":[-165.0,-165.0,-175.0,-175.0],\"yaxis\":\"y\",\"type\":\"scatter\"},{\"hoverinfo\":\"text\",\"marker\":{\"color\":\"rgb(133,20,75)\"},\"mode\":\"lines\",\"text\":[\"\\uc548\\ub77d\\uc0ac_\\uc0dd\\uba85_\\uace0\\ud1b5_\\uc8fd\\uc74c_\\uc778\\uac04\",\"\",\"\",\"\\uacfc\\ubaa9_\\uac04\\ud638\\ud559_\\uac04\\ud638_\\uad50\\uacfc_\\uc120\\ud0dd\"],\"x\":[0.7530738420972356,0.8981828208932792,0.8981828208932792,0.0],\"xaxis\":\"x\",\"y\":[-170.0,-170.0,-185.0,-185.0],\"yaxis\":\"y\",\"type\":\"scatter\"},{\"hoverinfo\":\"text\",\"marker\":{\"color\":\"rgb(133,20,75)\"},\"mode\":\"lines\",\"text\":[\"\\uac04\\ud638\\uc0ac_\\uc724\\ub9ac_\\uad8c\\ub9ac_\\uc758\\ub8cc_\\uac04\\ud638\\ubc95\",\"\",\"\",\"\\uc548\\ub77d\\uc0ac_\\uc0dd\\uba85_\\uace0\\ud1b5_\\uc8fd\\uc74c_\\uc778\\uac04\"],\"x\":[0.8163384870749548,0.9238705582679936,0.9238705582679936,0.8981828208932792],\"xaxis\":\"x\",\"y\":[-127.5,-127.5,-177.5,-177.5],\"yaxis\":\"y\",\"type\":\"scatter\"},{\"hoverinfo\":\"text\",\"marker\":{\"color\":\"rgb(0,116,217)\"},\"mode\":\"lines\",\"text\":[\"\\ub3cc\\ucd9c_\\uc218\\uc220_\\uad50\\uc815_\\ub2f4\\ubc30_\\uce58\\uc544\",\"\",\"\",\"\\uc548\\ub77d\\uc0ac_\\uc0dd\\uba85_\\ud658\\uc790_\\uac04\\ud638\\uc0ac_\\uace0\\ud1b5\"],\"x\":[1.2212894023430798,1.2855039840351057,1.2855039840351057,0.9238705582679936],\"xaxis\":\"x\",\"y\":[-67.8125,-67.8125,-152.5,-152.5],\"yaxis\":\"y\",\"type\":\"scatter\"},{\"hoverinfo\":\"text\",\"marker\":{\"color\":\"rgb(255,220,0)\"},\"mode\":\"lines\",\"text\":[\"\\uad50\\uc721_\\ub178\\uc778_\\uc694\\uc591_\\ubc29\\ubb38_\\ubc95\\uc815\",\"\",\"\",\"\\ub178\\uc778_\\uc694\\uc591_\\ubc29\\ubb38_\\uc5b4\\ub974\\uc2e0_\\uc758\\uc815\\ubd80\"],\"x\":[0.0,0.260495025016352,0.260495025016352,0.0],\"xaxis\":\"x\",\"y\":[-195.0,-195.0,-205.0,-205.0],\"yaxis\":\"y\",\"type\":\"scatter\"},{\"hoverinfo\":\"text\",\"marker\":{\"color\":\"rgb(0,116,217)\"},\"mode\":\"lines\",\"text\":[\"\\ub3cc\\ucd9c_\\uc218\\uc220_\\uad50\\uc815_\\ub2f4\\ubc30_\\uce58\\uc544\",\"\",\"\",\"\\ub178\\uc778_\\uc694\\uc591_\\ubc29\\ubb38_\\uad50\\uc721_\\uc758\\uc815\\ubd80\"],\"x\":[1.2855039840351057,1.3833237434267673,1.3833237434267673,0.260495025016352],\"xaxis\":\"x\",\"y\":[-110.15625,-110.15625,-200.0,-200.0],\"yaxis\":\"y\",\"type\":\"scatter\"},{\"hoverinfo\":\"text\",\"marker\":{\"color\":\"rgb(40,35,35)\"},\"mode\":\"lines\",\"text\":[\"\\ubcd1\\uc6d0_\\uc785\\uc6d0_\\uac04\\ud638\\uc0ac_\\uc5b4\\uba38\\ub2c8_\\uc9c4\\ub8cc\",\"\",\"\",\"\\ubcd1\\uc6d0_\\ubcf4\\ud5d8_\\ud658\\uc790_\\uc758\\uc0ac_\\uc9c4\\ub8cc\"],\"x\":[0.0,0.3350835707677333,0.3350835707677333,0.0],\"xaxis\":\"x\",\"y\":[-235.0,-235.0,-245.0,-245.0],\"yaxis\":\"y\",\"type\":\"scatter\"},{\"hoverinfo\":\"text\",\"marker\":{\"color\":\"rgb(40,35,35)\"},\"mode\":\"lines\",\"text\":[\"\\uc758\\ub8cc_\\ud55c\\uad6d_\\ubcd1\\uc6d0_\\ubd84\\uc7c1_\\uc694\\uc591\\uc6d0\",\"\",\"\",\"\\ubcd1\\uc6d0_\\uc785\\uc6d0_\\ud658\\uc790_\\uc9c4\\ub8cc_\\uc758\\uc0ac\"],\"x\":[0.0,0.6117666738421854,0.6117666738421854,0.3350835707677333],\"xaxis\":\"x\",\"y\":[-225.0,-225.0,-240.0,-240.0],\"yaxis\":\"y\",\"type\":\"scatter\"},{\"hoverinfo\":\"text\",\"marker\":{\"color\":\"rgb(40,35,35)\"},\"mode\":\"lines\",\"text\":[\"\\ubcd1\\uc6d0_\\ud658\\uc790_\\uc785\\uc6d0_\\uc9c4\\ub8cc_\\uc758\\uc0ac\",\"\",\"\",\"\\uba38\\ud53c_\\uac00\\uc871_\\uc815\\uc2e0_\\uc544\\ubc84\\uc9c0_\\uc800\\ud76c\"],\"x\":[0.6117666738421854,0.6996856397812825,0.6996856397812825,0.0],\"xaxis\":\"x\",\"y\":[-232.5,-232.5,-255.0,-255.0],\"yaxis\":\"y\",\"type\":\"scatter\"},{\"hoverinfo\":\"text\",\"marker\":{\"color\":\"rgb(40,35,35)\"},\"mode\":\"lines\",\"text\":[\"\\ubcd1\\uc6d0_\\ud790\\ub9c1_\\uc21c\\uc704_\\uac80\\uc0c9_\\uc694\\uc591\",\"\",\"\",\"\\ubcd1\\uc6d0_\\ud658\\uc790_\\uc785\\uc6d0_\\uc9c4\\ub8cc_\\uc758\\uc0ac\"],\"x\":[0.0,0.842200131865245,0.842200131865245,0.6996856397812825],\"xaxis\":\"x\",\"y\":[-215.0,-215.0,-243.75,-243.75],\"yaxis\":\"y\",\"type\":\"scatter\"},{\"hoverinfo\":\"text\",\"marker\":{\"color\":\"rgb(61,153,112)\"},\"mode\":\"lines\",\"text\":[\"\\ubcc0\\ud638\\uc0ac_\\uba54\\ub514\\uceec_\\uc0ac\\uac74_\\uc0c1\\ub2f4_\\uc758\\ub8cc\",\"\",\"\",\"\\uc758\\ub8cc_\\ubcc0\\ud638\\uc0ac_\\uae30\\ub85d_\\uc18c\\uc1a1_\\ud658\\uc790\"],\"x\":[0.0,0.4534906646825846,0.4534906646825846,0.0],\"xaxis\":\"x\",\"y\":[-275.0,-275.0,-285.0,-285.0],\"yaxis\":\"y\",\"type\":\"scatter\"},{\"hoverinfo\":\"text\",\"marker\":{\"color\":\"rgb(61,153,112)\"},\"mode\":\"lines\",\"text\":[\"\\ubcc0\\ud638\\uc0ac_\\uc758\\ub8cc_\\uae30\\ub85d_\\ubc95\\ub960_\\uc18c\\uc1a1\",\"\",\"\",\"\\uc774\\ud63c_\\uc7ac\\uc0b0_\\ubcc0\\ud638\\uc0ac_\\uc0c1\\uc18d_\\ubd84\\ud560\"],\"x\":[0.4534906646825846,0.7665593094782956,0.7665593094782956,0.0],\"xaxis\":\"x\",\"y\":[-280.0,-280.0,-295.0,-295.0],\"yaxis\":\"y\",\"type\":\"scatter\"},{\"hoverinfo\":\"text\",\"marker\":{\"color\":\"rgb(61,153,112)\"},\"mode\":\"lines\",\"text\":[\"\\ud30c\\uc0b0_\\ucc44\\ubb34_\\uc0c1\\ud658_\\ub300\\ucd9c_\\ud68c\\uc0dd\",\"\",\"\",\"\\ubcc0\\ud638\\uc0ac_\\uc758\\ub8cc_\\uc18c\\uc1a1_\\uae30\\ub85d_\\ubc95\\ub960\"],\"x\":[0.0,0.8699800751955091,0.8699800751955091,0.7665593094782956],\"xaxis\":\"x\",\"y\":[-265.0,-265.0,-287.5,-287.5],\"yaxis\":\"y\",\"type\":\"scatter\"},{\"hoverinfo\":\"text\",\"marker\":{\"color\":\"rgb(61,153,112)\"},\"mode\":\"lines\",\"text\":[\"\\ubcc0\\ud638\\uc0ac_\\uc758\\ub8cc_\\uae30\\ub85d_\\uc18c\\uc1a1_\\ubc95\\ub960\",\"\",\"\",\"\\uacbd\\ub9e4_\\ubd80\\ub3d9\\uc0b0_\\ub4f1\\uae30_\\ud1a0\\uc9c0_\\uacbd\\ud654\"],\"x\":[0.8699800751955091,0.9495621668635115,0.9495621668635115,0.0],\"xaxis\":\"x\",\"y\":[-276.25,-276.25,-305.0,-305.0],\"yaxis\":\"y\",\"type\":\"scatter\"},{\"hoverinfo\":\"text\",\"marker\":{\"color\":\"rgb(0,116,217)\"},\"mode\":\"lines\",\"text\":[\"\\ubcd1\\uc6d0_\\ud658\\uc790_\\uc785\\uc6d0_\\uc9c4\\ub8cc_\\uc758\\uc0ac\",\"\",\"\",\"\\ubcc0\\ud638\\uc0ac_\\uc758\\ub8cc_\\uae30\\ub85d_\\uc18c\\uc1a1_\\ubc95\\ub960\"],\"x\":[0.842200131865245,1.0693888454714366,1.0693888454714366,0.9495621668635115],\"xaxis\":\"x\",\"y\":[-229.375,-229.375,-290.625,-290.625],\"yaxis\":\"y\",\"type\":\"scatter\"},{\"hoverinfo\":\"text\",\"marker\":{\"color\":\"rgb(255,65,54)\"},\"mode\":\"lines\",\"text\":[\"\\ubcf4\\ud5d8_\\uc0ac\\uace0_\\uc790\\ub3d9\\ucc28_\\uad50\\ud1b5\\uc0ac\\uace0_\\ubcf4\\uc0c1\",\"\",\"\",\"\\ubcf4\\ud5d8_\\uac00\\uc785_\\ubcf4\\uc7a5_\\ubcf4\\ud5d8\\ub8cc_\\uc2e4\\ube44\"],\"x\":[0.0,0.47306913652630633,0.47306913652630633,0.0],\"xaxis\":\"x\",\"y\":[-315.0,-315.0,-325.0,-325.0],\"yaxis\":\"y\",\"type\":\"scatter\"},{\"hoverinfo\":\"text\",\"marker\":{\"color\":\"rgb(255,65,54)\"},\"mode\":\"lines\",\"text\":[\"\\ubcf4\\ud5d8_\\uac00\\uc785_\\uc0ac\\uace0_\\ubcf4\\uc7a5_\\ubcf4\\uc0c1\",\"\",\"\",\"\\ubcf4\\ud5d8_\\ucc44\\ud305_\\uc7ac\\ubb34_\\uc624\\ud508_\\uce74\\uce74\\uc624\\ud1a1\"],\"x\":[0.47306913652630633,0.6988383411745149,0.6988383411745149,0.0],\"xaxis\":\"x\",\"y\":[-320.0,-320.0,-335.0,-335.0],\"yaxis\":\"y\",\"type\":\"scatter\"},{\"hoverinfo\":\"text\",\"marker\":{\"color\":\"rgb(0,116,217)\"},\"mode\":\"lines\",\"text\":[\"\\ubcd1\\uc6d0_\\ubcc0\\ud638\\uc0ac_\\ud658\\uc790_\\uc758\\ub8cc_\\uc9c4\\ub8cc\",\"\",\"\",\"\\ubcf4\\ud5d8_\\uac00\\uc785_\\uc0ac\\uace0_\\ubcf4\\uc7a5_\\ubcf4\\uc0c1\"],\"x\":[1.0693888454714366,1.1246816795594792,1.1246816795594792,0.6988383411745149],\"xaxis\":\"x\",\"y\":[-260.0,-260.0,-327.5,-327.5],\"yaxis\":\"y\",\"type\":\"scatter\"},{\"hoverinfo\":\"text\",\"marker\":{\"color\":\"rgb(0,116,217)\"},\"mode\":\"lines\",\"text\":[\"\\ub3cc\\ucd9c_\\uc218\\uc220_\\uad50\\uc815_\\ub2f4\\ubc30_\\uce58\\uc544\",\"\",\"\",\"\\ubcf4\\ud5d8_\\ubcd1\\uc6d0_\\ud658\\uc790_\\ubcc0\\ud638\\uc0ac_\\uc785\\uc6d0\"],\"x\":[1.3833237434267673,1.3886285850113864,1.3886285850113864,1.1246816795594792],\"xaxis\":\"x\",\"y\":[-155.078125,-155.078125,-293.75,-293.75],\"yaxis\":\"y\",\"type\":\"scatter\"},{\"hoverinfo\":\"text\",\"marker\":{\"color\":\"rgb(35,205,205)\"},\"mode\":\"lines\",\"text\":[\"\\ud5c8\\ub9ac_\\ub514\\uc2a4\\ud06c_\\uc2e0\\ubc1c_\\ucc99\\ucd94_\\uc6b4\\ub3d9\",\"\",\"\",\"\\ud5c8\\ub9ac_\\ub514\\uc2a4\\ud06c_\\uc6b4\\ub3d9_\\uc2e0\\ubc1c_\\ucc99\\ucd94\"],\"x\":[0.0,0.047864875425486786,0.047864875425486786,0.0],\"xaxis\":\"x\",\"y\":[-365.0,-365.0,-375.0,-375.0],\"yaxis\":\"y\",\"type\":\"scatter\"},{\"hoverinfo\":\"text\",\"marker\":{\"color\":\"rgb(35,205,205)\"},\"mode\":\"lines\",\"text\":[\"\\ud5c8\\ub9ac_\\ub514\\uc2a4\\ud06c_\\uc6b4\\ub3d9_\\uc2e0\\ubc1c_\\ucc99\\ucd94\",\"\",\"\",\"\\uac80\\uc0ac_\\uc18c\\uacac_\\ud5c8\\ub9ac_\\ucd2c\\uc601_\\ubcf4\\ud5d8\"],\"x\":[0.047864875425486786,0.3762740778304176,0.3762740778304176,0.0],\"xaxis\":\"x\",\"y\":[-370.0,-370.0,-385.0,-385.0],\"yaxis\":\"y\",\"type\":\"scatter\"},{\"hoverinfo\":\"text\",\"marker\":{\"color\":\"rgb(35,205,205)\"},\"mode\":\"lines\",\"text\":[\"\\uacbd\\ub9e4_\\ub3d9\\uc0b0_\\uc720\\uccb4_\\ub514\\uc2a4\\ud06c_\\ud5c8\\ub9ac\",\"\",\"\",\"\\ud5c8\\ub9ac_\\ub514\\uc2a4\\ud06c_\\uc6b4\\ub3d9_\\uc2e0\\ubc1c_\\ucc99\\ucd94\"],\"x\":[0.0,0.5246930212036599,0.5246930212036599,0.3762740778304176],\"xaxis\":\"x\",\"y\":[-355.0,-355.0,-377.5,-377.5],\"yaxis\":\"y\",\"type\":\"scatter\"},{\"hoverinfo\":\"text\",\"marker\":{\"color\":\"rgb(35,205,205)\"},\"mode\":\"lines\",\"text\":[\"\\uae09\\uc5ec_\\ud611\\ucc29\\uc99d_\\uc2e4\\uc5c5_\\uc218\\uae09_\\ud1f4\\uc9c1\\uae08\",\"\",\"\",\"\\ud5c8\\ub9ac_\\ub514\\uc2a4\\ud06c_\\uc6b4\\ub3d9_\\uc2e0\\ubc1c_\\ucc99\\ucd94\"],\"x\":[0.0,0.8264324136599759,0.8264324136599759,0.5246930212036599],\"xaxis\":\"x\",\"y\":[-345.0,-345.0,-366.25,-366.25],\"yaxis\":\"y\",\"type\":\"scatter\"},{\"hoverinfo\":\"text\",\"marker\":{\"color\":\"rgb(61,153,112)\"},\"mode\":\"lines\",\"text\":[\"\\ucc98\\ubc29_\\ubcf5\\uc6a9_\\uc57d\\ubb3c_\\uc57d\\uad6d_\\ucc98\\ubc29\\uc804\",\"\",\"\",\"\\uac80\\uc0ac_\\uad11\\uc6b0\\ubcd1_\\uc694\\uc0b0_\\ud1b5\\ud48d_\\ud68c\\ubcf5\"],\"x\":[0.0,0.6712743606296179,0.6712743606296179,0.0],\"xaxis\":\"x\",\"y\":[-405.0,-405.0,-415.0,-415.0],\"yaxis\":\"y\",\"type\":\"scatter\"},{\"hoverinfo\":\"text\",\"marker\":{\"color\":\"rgb(61,153,112)\"},\"mode\":\"lines\",\"text\":[\"\\ub2f9\\ub1e8_\\ud608\\ub2f9_\\ub2f9\\ub1e8\\ubcd1_\\uc778\\uc290\\ub9b0_\\ube44\\ud0c0\\ubbfc\",\"\",\"\",\"\\uc12d\\ucde8_\\uc74c\\uc2dd_\\uadfc\\uc721_\\uc2dd\\ub2e8_\\uc601\\uc591\\uc0ac\"],\"x\":[0.0,0.6435603860643488,0.6435603860643488,0.0],\"xaxis\":\"x\",\"y\":[-435.0,-435.0,-445.0,-445.0],\"yaxis\":\"y\",\"type\":\"scatter\"},{\"hoverinfo\":\"text\",\"marker\":{\"color\":\"rgb(61,153,112)\"},\"mode\":\"lines\",\"text\":[\"\\ud608\\uc555_\\ud22c\\uc5ec_\\ucf5c\\ub808\\uc2a4\\ud14c\\ub864_\\ud608\\uc99d_\\uc2ec\\uc7a5\",\"\",\"\",\"\\ub2f9\\ub1e8_\\ud608\\ub2f9_\\ub2f9\\ub1e8\\ubcd1_\\uc778\\uc290\\ub9b0_\\uc12d\\ucde8\"],\"x\":[0.0,0.6510949158971544,0.6510949158971544,0.6435603860643488],\"xaxis\":\"x\",\"y\":[-425.0,-425.0,-440.0,-440.0],\"yaxis\":\"y\",\"type\":\"scatter\"},{\"hoverinfo\":\"text\",\"marker\":{\"color\":\"rgb(61,153,112)\"},\"mode\":\"lines\",\"text\":[\"\\ubcf5\\uc6a9_\\ucc98\\ubc29_\\ucc98\\ubc29\\uc804_\\uc57d\\ubb3c_\\uc57d\\uad6d\",\"\",\"\",\"\\ub2f9\\ub1e8_\\ud608\\ub2f9_\\ub2f9\\ub1e8\\ubcd1_\\uc778\\uc290\\ub9b0_\\uc12d\\ucde8\"],\"x\":[0.6712743606296179,0.783542773726645,0.783542773726645,0.6510949158971544],\"xaxis\":\"x\",\"y\":[-410.0,-410.0,-432.5,-432.5],\"yaxis\":\"y\",\"type\":\"scatter\"},{\"hoverinfo\":\"text\",\"marker\":{\"color\":\"rgb(61,153,112)\"},\"mode\":\"lines\",\"text\":[\"\\ucc9c\\uc2dd_\\ub3c5\\uac10_\\uae30\\uce68_\\uae30\\ub984_\\ud638\\ub450\",\"\",\"\",\"\\ub2f9\\ub1e8_\\ud608\\ub2f9_\\ub2f9\\ub1e8\\ubcd1_\\uc778\\uc290\\ub9b0_\\uc12d\\ucde8\"],\"x\":[0.0,0.8469182553977043,0.8469182553977043,0.783542773726645],\"xaxis\":\"x\",\"y\":[-395.0,-395.0,-421.25,-421.25],\"yaxis\":\"y\",\"type\":\"scatter\"},{\"hoverinfo\":\"text\",\"marker\":{\"color\":\"rgb(255,65,54)\"},\"mode\":\"lines\",\"text\":[\"\\ud56d\\uc554_\\uc138\\ud3ec_\\uc554\\uc138\\ud3ec_\\uce58\\ub8cc_\\uc12d\\ucde8\",\"\",\"\",\"\\uc554\\uc138\\ud3ec_\\uba74\\uc5ed_\\uade0\\uc0ac\\uccb4_\\uae30\\uc804_\\ud56d\\uc554\"],\"x\":[0.0,0.42453217838219204,0.42453217838219204,0.0],\"xaxis\":\"x\",\"y\":[-465.0,-465.0,-475.0,-475.0],\"yaxis\":\"y\",\"type\":\"scatter\"},{\"hoverinfo\":\"text\",\"marker\":{\"color\":\"rgb(255,65,54)\"},\"mode\":\"lines\",\"text\":[\"\\uc8fc\\uc0ac_\\uba74\\uc5ed_\\uba74\\uc5ed\\ub825_\\uc694\\ubc95_\\uaca8\\uc6b0\\uc0b4\\uc774\",\"\",\"\",\"\\ud56d\\uc554_\\uc554\\uc138\\ud3ec_\\uc138\\ud3ec_\\uba74\\uc5ed_\\ubb3c\\uc9c8\"],\"x\":[0.0,0.7400520074633054,0.7400520074633054,0.42453217838219204],\"xaxis\":\"x\",\"y\":[-455.0,-455.0,-470.0,-470.0],\"yaxis\":\"y\",\"type\":\"scatter\"},{\"hoverinfo\":\"text\",\"marker\":{\"color\":\"rgb(255,65,54)\"},\"mode\":\"lines\",\"text\":[\"\\ud56d\\uc554_\\uc554\\uc138\\ud3ec_\\uba74\\uc5ed_\\uc138\\ud3ec_\\ubb3c\\uc9c8\",\"\",\"\",\"\\ube44\\ud0c0\\ubbfc_\\uc720\\ubc29\\uc554_\\uc218\\uce58_\\uc138\\ud3ec_\\uc5ec\\uc131\"],\"x\":[0.7400520074633054,0.831006100100152,0.831006100100152,0.0],\"xaxis\":\"x\",\"y\":[-462.5,-462.5,-485.0,-485.0],\"yaxis\":\"y\",\"type\":\"scatter\"},{\"hoverinfo\":\"text\",\"marker\":{\"color\":\"rgb(0,116,217)\"},\"mode\":\"lines\",\"text\":[\"\\ub2f9\\ub1e8_\\ud608\\ub2f9_\\ub2f9\\ub1e8\\ubcd1_\\uc778\\uc290\\ub9b0_\\uc12d\\ucde8\",\"\",\"\",\"\\ud56d\\uc554_\\uc554\\uc138\\ud3ec_\\uc138\\ud3ec_\\uba74\\uc5ed_\\ube44\\ud0c0\\ubbfc\"],\"x\":[0.8469182553977043,1.0530099787052947,1.0530099787052947,0.831006100100152],\"xaxis\":\"x\",\"y\":[-408.125,-408.125,-473.75,-473.75],\"yaxis\":\"y\",\"type\":\"scatter\"},{\"hoverinfo\":\"text\",\"marker\":{\"color\":\"rgb(0,116,217)\"},\"mode\":\"lines\",\"text\":[\"\\ud5c8\\ub9ac_\\ub514\\uc2a4\\ud06c_\\uc6b4\\ub3d9_\\uc2e0\\ubc1c_\\ucc99\\ucd94\",\"\",\"\",\"\\ud56d\\uc554_\\uc138\\ud3ec_\\ub2f9\\ub1e8_\\uc554\\uc138\\ud3ec_\\ube44\\ud0c0\\ubbfc\"],\"x\":[0.8264324136599759,1.4482142181026985,1.4482142181026985,1.0530099787052947],\"xaxis\":\"x\",\"y\":[-355.625,-355.625,-440.9375,-440.9375],\"yaxis\":\"y\",\"type\":\"scatter\"},{\"hoverinfo\":\"text\",\"marker\":{\"color\":\"rgb(0,116,217)\"},\"mode\":\"lines\",\"text\":[\"\\ub3cc\\ucd9c_\\uc218\\uc220_\\uad50\\uc815_\\ud658\\uc790_\\ubcf4\\ud5d8\",\"\",\"\",\"\\ud5c8\\ub9ac_\\ub514\\uc2a4\\ud06c_\\uc6b4\\ub3d9_\\uce58\\ub8cc_\\uc2e0\\ubc1c\"],\"x\":[1.3886285850113864,1.6520781862731464,1.6520781862731464,1.4482142181026985],\"xaxis\":\"x\",\"y\":[-224.4140625,-224.4140625,-398.28125,-398.28125],\"yaxis\":\"y\",\"type\":\"scatter\"},{\"hoverinfo\":\"text\",\"hovertext\":[\"\\ubc31\\uc2e0_\\uc811\\uc885_\\ucf54\\ub85c\\ub098_\\uac10\\uc5fc_\\uc5d0\\uc774\\uc988\",\"\\uc6b0\\uc6b8\\uc99d_\\uc2ec\\ub9ac_\\uc815\\uc2e0_\\uc6b0\\uc6b8_\\uac15\\ubc15\",\"\\ub2f4\\ubc30_\\ubc31\\uc2e0_\\ubcf4\\uac74\\uc18c_\\uce5c\\uad6c_\\uc811\\uc885\",\"\\ub3cc\\ucd9c_\\uc218\\uc220_\\uad50\\uc815_\\uce58\\uc544_\\uce58\\uacfc\",\"\\ub2f4\\ubc30_\\uce5c\\uad6c_\\ubc31\\uc2e0_\\ubcf4\\uac74\\uc18c_\\uc0ac\\ub78c\",\"\\uac04\\ud638\\uc0ac_\\uc724\\ub9ac_\\uac04\\ud638\\ubc95_\\uac04\\ud638_\\uc758\\ub8cc\",\"\\uc548\\ub77d\\uc0ac_\\uc0dd\\uba85_\\uace0\\ud1b5_\\uc8fd\\uc74c_\\uc778\\uac04\",\"\\uac04\\ud638\\uc0ac_\\uc724\\ub9ac_\\uad8c\\ub9ac_\\uc758\\ub8cc_\\uac04\\ud638\\ubc95\",\"\\ub3cc\\ucd9c_\\uc218\\uc220_\\uad50\\uc815_\\ub2f4\\ubc30_\\uce58\\uc544\",\"\\ub3cc\\ucd9c_\\uc218\\uc220_\\uad50\\uc815_\\ub2f4\\ubc30_\\uce58\\uc544\",\"\\ubcd1\\uc6d0_\\ud658\\uc790_\\uc785\\uc6d0_\\uc9c4\\ub8cc_\\uc758\\uc0ac\",\"\\ubcc0\\ud638\\uc0ac_\\uc758\\ub8cc_\\uae30\\ub85d_\\ubc95\\ub960_\\uc18c\\uc1a1\",\"\\ubcc0\\ud638\\uc0ac_\\uc758\\ub8cc_\\uae30\\ub85d_\\uc18c\\uc1a1_\\ubc95\\ub960\",\"\\ubcd1\\uc6d0_\\ud658\\uc790_\\uc785\\uc6d0_\\uc9c4\\ub8cc_\\uc758\\uc0ac\",\"\\ubcf4\\ud5d8_\\uac00\\uc785_\\uc0ac\\uace0_\\ubcf4\\uc7a5_\\ubcf4\\uc0c1\",\"\\ubcd1\\uc6d0_\\ubcc0\\ud638\\uc0ac_\\ud658\\uc790_\\uc758\\ub8cc_\\uc9c4\\ub8cc\",\"\\ub3cc\\ucd9c_\\uc218\\uc220_\\uad50\\uc815_\\ub2f4\\ubc30_\\uce58\\uc544\",\"\\ud5c8\\ub9ac_\\ub514\\uc2a4\\ud06c_\\uc6b4\\ub3d9_\\uc2e0\\ubc1c_\\ucc99\\ucd94\",\"\\ubcf5\\uc6a9_\\ucc98\\ubc29_\\ucc98\\ubc29\\uc804_\\uc57d\\ubb3c_\\uc57d\\uad6d\",\"\\ud56d\\uc554_\\uc554\\uc138\\ud3ec_\\uba74\\uc5ed_\\uc138\\ud3ec_\\ubb3c\\uc9c8\",\"\\ub2f9\\ub1e8_\\ud608\\ub2f9_\\ub2f9\\ub1e8\\ubcd1_\\uc778\\uc290\\ub9b0_\\uc12d\\ucde8\",\"\\ud5c8\\ub9ac_\\ub514\\uc2a4\\ud06c_\\uc6b4\\ub3d9_\\uc2e0\\ubc1c_\\ucc99\\ucd94\",\"\\ub3cc\\ucd9c_\\uc218\\uc220_\\uad50\\uc815_\\ud658\\uc790_\\ubcf4\\ud5d8\"],\"marker\":{\"color\":\"black\"},\"mode\":\"markers\",\"showlegend\":false,\"x\":[0.8917951920917153,0.6496902766086289,0.9898447047821737,0.5902555301263068,1.09567292034062,0.6832791514978379,0.7530738420972356,0.8163384870749548,1.2212894023430798,1.2855039840351057,0.6117666738421854,0.4534906646825846,0.8699800751955091,0.842200131865245,0.47306913652630633,1.0693888454714366,1.3833237434267673,0.047864875425486786,0.6712743606296179,0.7400520074633054,0.8469182553977043,0.8264324136599759,1.3886285850113864],\"y\":[-10.0,-60.0,-20.0,-90.0,-38.125,-130.0,-170.0,-127.5,-67.8125,-110.15625,-232.5,-280.0,-276.25,-229.375,-320.0,-260.0,-155.078125,-370.0,-410.0,-462.5,-408.125,-355.625,-224.4140625],\"type\":\"scatter\"},{\"hoverinfo\":\"text\",\"hovertext\":[\"\\ub2f4\\ubc30_\\ubcf4\\uac74\\uc18c_\\uce5c\\uad6c_\\ubb38\\uc790_\\uae08\\uc5f0\",\"\\uc6b0\\uc6b8\\uc99d_\\uc815\\uc2e0_\\uc2ec\\ub9ac_\\uc7a5\\uc560_\\uc6b0\\uc6b8\",\"\\uc6b0\\uc6b8\\uc99d_\\uc815\\uc2e0_\\uc2ec\\ub9ac_\\uc7a5\\uc560_\\uc99d\\uc0c1\",\"\\ub3cc\\ucd9c_\\uc218\\uc220_\\uad50\\uc815_\\uce58\\uc544_\\uce58\\uacfc\",\"\\uad8c\\ub9ac_\\ud658\\uc790_\\uc9c4\\ub8cc_\\uc758\\ubb34_\\ubcf4\\ud638\",\"\\uac04\\ud638\\uc0ac_\\uc724\\ub9ac_\\uad8c\\ub9ac_\\uac04\\ud638\\ubc95_\\uc758\\ub8cc\",\"\\uc548\\ub77d\\uc0ac_\\uc0dd\\uba85_\\uace0\\ud1b5_\\uc8fd\\uc74c_\\uc778\\uac04\",\"\\uc548\\ub77d\\uc0ac_\\uc0dd\\uba85_\\ud658\\uc790_\\uac04\\ud638\\uc0ac_\\uace0\\ud1b5\",\"\\ub178\\uc778_\\uc694\\uc591_\\ubc29\\ubb38_\\uad50\\uc721_\\uc758\\uc815\\ubd80\",\"\\ubcd1\\uc6d0_\\uc785\\uc6d0_\\ud658\\uc790_\\uc9c4\\ub8cc_\\uc758\\uc0ac\",\"\\ubcd1\\uc6d0_\\ud658\\uc790_\\uc785\\uc6d0_\\uc9c4\\ub8cc_\\uc758\\uc0ac\",\"\\ubcc0\\ud638\\uc0ac_\\uc758\\ub8cc_\\uc18c\\uc1a1_\\uae30\\ub85d_\\ubc95\\ub960\",\"\\ubcc0\\ud638\\uc0ac_\\uc758\\ub8cc_\\uae30\\ub85d_\\uc18c\\uc1a1_\\ubc95\\ub960\",\"\\ubcf4\\ud5d8_\\uac00\\uc785_\\uc0ac\\uace0_\\ubcf4\\uc7a5_\\ubcf4\\uc0c1\",\"\\ubcf4\\ud5d8_\\ubcd1\\uc6d0_\\ud658\\uc790_\\ubcc0\\ud638\\uc0ac_\\uc785\\uc6d0\",\"\\ud5c8\\ub9ac_\\ub514\\uc2a4\\ud06c_\\uc6b4\\ub3d9_\\uc2e0\\ubc1c_\\ucc99\\ucd94\",\"\\ud5c8\\ub9ac_\\ub514\\uc2a4\\ud06c_\\uc6b4\\ub3d9_\\uc2e0\\ubc1c_\\ucc99\\ucd94\",\"\\ub2f9\\ub1e8_\\ud608\\ub2f9_\\ub2f9\\ub1e8\\ubcd1_\\uc778\\uc290\\ub9b0_\\uc12d\\ucde8\",\"\\ub2f9\\ub1e8_\\ud608\\ub2f9_\\ub2f9\\ub1e8\\ubcd1_\\uc778\\uc290\\ub9b0_\\uc12d\\ucde8\",\"\\ub2f9\\ub1e8_\\ud608\\ub2f9_\\ub2f9\\ub1e8\\ubcd1_\\uc778\\uc290\\ub9b0_\\uc12d\\ucde8\",\"\\ud56d\\uc554_\\uc554\\uc138\\ud3ec_\\uc138\\ud3ec_\\uba74\\uc5ed_\\ubb3c\\uc9c8\",\"\\ud56d\\uc554_\\uc554\\uc138\\ud3ec_\\uc138\\ud3ec_\\uba74\\uc5ed_\\ube44\\ud0c0\\ubbfc\",\"\\ud56d\\uc554_\\uc138\\ud3ec_\\ub2f9\\ub1e8_\\uc554\\uc138\\ud3ec_\\ube44\\ud0c0\\ubbfc\",\"\\ud5c8\\ub9ac_\\ub514\\uc2a4\\ud06c_\\uc6b4\\ub3d9_\\uce58\\ub8cc_\\uc2e0\\ubc1c\"],\"marker\":{\"color\":\"black\"},\"mode\":\"markers\",\"showlegend\":false,\"x\":[0.9615333900551927,0.736702922092964,0.9010075245168172,0.7078067373763426,0.7274992768850359,0.7420187940487821,0.8981828208932792,0.9238705582679936,0.260495025016352,0.3350835707677333,0.6996856397812825,0.7665593094782956,0.9495621668635115,0.6988383411745149,1.1246816795594792,0.3762740778304176,0.5246930212036599,0.6435603860643488,0.6510949158971544,0.783542773726645,0.42453217838219204,0.831006100100152,1.0530099787052947,1.4482142181026985],\"y\":[-30.0,-67.5,-56.25,-97.5,-150.0,-140.0,-177.5,-152.5,-200.0,-240.0,-243.75,-287.5,-290.625,-327.5,-293.75,-377.5,-366.25,-440.0,-432.5,-421.25,-470.0,-473.75,-440.9375,-398.28125],\"type\":\"scatter\"}],                        {\"autosize\":false,\"height\":935,\"hovermode\":\"closest\",\"showlegend\":false,\"width\":1000,\"xaxis\":{\"mirror\":\"allticks\",\"rangemode\":\"tozero\",\"showgrid\":false,\"showline\":true,\"showticklabels\":true,\"ticks\":\"outside\",\"type\":\"linear\",\"zeroline\":false},\"yaxis\":{\"mirror\":\"allticks\",\"rangemode\":\"tozero\",\"showgrid\":false,\"showline\":true,\"showticklabels\":true,\"tickmode\":\"array\",\"ticks\":\"outside\",\"ticktext\":[\"24_\\ubc31\\uc2e0_\\uc811\\uc885_\\ucf54\\ub85c\\ub098\",\"40_\\uc5d0\\uc774\\uc988_\\uac10\\uc5fc_\\uc5fc\\uc778\",\"42_\\uc790\\uad81_\\ubd88\\ucd9c\\uc11d_\\uc784\\uc2e0\",\"9_\\ub2f4\\ubc30_\\ubcf4\\uac74\\uc18c_\\uce5c\\uad6c\",\"46_\\ud2b8\\ub79c_\\uc131\\uc695_\\uc5ec\\uc790\",\"48_\\ubd88\\uba74\\uc99d_\\ubc1c\\uc791_\\uc218\\uba74\\uc81c\",\"12_\\uc6b0\\uc6b8\\uc99d_\\uc2ec\\ub9ac_\\uc815\\uc2e0\",\"28_\\uce58\\ub9e4_\\ub1cc\\uc804\\uc99d_\\ubc1c\\uc791\",\"4_\\uc5bc\\uad74_\\uad11\\ub300\\ubf08_\\uc218\\uc220\",\"14_\\ub3cc\\ucd9c_\\uad50\\uc815_\\uc218\\uc220\",\"27_\\uce58\\uacfc_\\ud50c\\ub780\\ud2b8_\\uad50\\uc815\",\"37_\\uc218\\uc220\\uc2e4_\\uc124\\uce58_\\uc0ac\\ud68c\",\"11_\\uac04\\ud638\\uc0ac_\\uac04\\ud638\\ubc95_\\uac04\\ud638\",\"19_\\uc724\\ub9ac_\\uc758\\ub8cc_\\uc0ac\\ud68c\",\"23_\\uad8c\\ub9ac_\\uc9c4\\ub8cc_\\uc758\\ubb34\",\"45_\\ubd88\\ub9cc_\\uc758\\uc0ac\\uc18c\\ud1b5_\\uc0c1\\ud669\",\"7_\\uc548\\ub77d\\uc0ac_\\uc0dd\\uba85_\\uace0\\ud1b5\",\"0_\\uad50\\uc7ac_\\uc218\\ub2a5_\\uac1c\\ub150\",\"36_\\uacfc\\ubaa9_\\uac04\\ud638\\ud559_\\uac04\\ud638\",\"34_\\uad50\\uc721_\\ub178\\uc778_\\uc694\\uc591\",\"44_\\ub178\\uc778_\\uc694\\uc591_\\ubc29\\ubb38\",\"33_\\ubcd1\\uc6d0_\\ud790\\ub9c1_\\uc21c\\uc704\",\"25_\\uc758\\ub8cc_\\ud55c\\uad6d_\\ubcd1\\uc6d0\",\"6_\\ubcd1\\uc6d0_\\uc785\\uc6d0_\\uac04\\ud638\\uc0ac\",\"1_\\ubcd1\\uc6d0_\\ubcf4\\ud5d8_\\ud658\\uc790\",\"21_\\uba38\\ud53c_\\uac00\\uc871_\\uc815\\uc2e0\",\"26_\\ud30c\\uc0b0_\\ucc44\\ubb34_\\uc0c1\\ud658\",\"30_\\ubcc0\\ud638\\uc0ac_\\uba54\\ub514\\uceec_\\uc0ac\\uac74\",\"5_\\uc758\\ub8cc_\\ubcc0\\ud638\\uc0ac_\\uae30\\ub85d\",\"32_\\uc774\\ud63c_\\uc7ac\\uc0b0_\\ubcc0\\ud638\\uc0ac\",\"38_\\uacbd\\ub9e4_\\ubd80\\ub3d9\\uc0b0_\\ub4f1\\uae30\",\"10_\\ubcf4\\ud5d8_\\uc0ac\\uace0_\\uc790\\ub3d9\\ucc28\",\"13_\\ubcf4\\ud5d8_\\uac00\\uc785_\\ubcf4\\uc7a5\",\"39_\\ubcf4\\ud5d8_\\ucc44\\ud305_\\uc7ac\\ubb34\",\"29_\\uae09\\uc5ec_\\ud611\\ucc29\\uc99d_\\uc2e4\\uc5c5\",\"15_\\uacbd\\ub9e4_\\ub3d9\\uc0b0_\\uc720\\uccb4\",\"47_\\ud5c8\\ub9ac_\\ub514\\uc2a4\\ud06c_\\uc2e0\\ubc1c\",\"3_\\ud5c8\\ub9ac_\\ub514\\uc2a4\\ud06c_\\uc6b4\\ub3d9\",\"31_\\uac80\\uc0ac_\\uc18c\\uacac_\\ud5c8\\ub9ac\",\"20_\\ucc9c\\uc2dd_\\ub3c5\\uac10_\\uae30\\uce68\",\"16_\\ucc98\\ubc29_\\ubcf5\\uc6a9_\\uc57d\\ubb3c\",\"22_\\uac80\\uc0ac_\\uad11\\uc6b0\\ubcd1_\\uc694\\uc0b0\",\"18_\\ud608\\uc555_\\ud22c\\uc5ec_\\ucf5c\\ub808\\uc2a4\\ud14c\\ub864\",\"8_\\ub2f9\\ub1e8_\\ud608\\ub2f9_\\ub2f9\\ub1e8\\ubcd1\",\"17_\\uc12d\\ucde8_\\uc74c\\uc2dd_\\uadfc\\uc721\",\"43_\\uc8fc\\uc0ac_\\uba74\\uc5ed_\\uba74\\uc5ed\\ub825\",\"2_\\ud56d\\uc554_\\uc138\\ud3ec_\\uc554\\uc138\\ud3ec\",\"35_\\uc554\\uc138\\ud3ec_\\uba74\\uc5ed_\\uade0\\uc0ac\\uccb4\",\"41_\\ube44\\ud0c0\\ubbfc_\\uc720\\ubc29\\uc554_\\uc218\\uce58\"],\"tickvals\":[-5.0,-15.0,-25.0,-35.0,-45.0,-55.0,-65.0,-75.0,-85.0,-95.0,-105.0,-115.0,-125.0,-135.0,-145.0,-155.0,-165.0,-175.0,-185.0,-195.0,-205.0,-215.0,-225.0,-235.0,-245.0,-255.0,-265.0,-275.0,-285.0,-295.0,-305.0,-315.0,-325.0,-335.0,-345.0,-355.0,-365.0,-375.0,-385.0,-395.0,-405.0,-415.0,-425.0,-435.0,-445.0,-455.0,-465.0,-475.0,-485.0],\"type\":\"linear\",\"zeroline\":false,\"range\":[-490.0,0.0]},\"template\":{\"data\":{\"barpolar\":[{\"marker\":{\"line\":{\"color\":\"white\",\"width\":0.5},\"pattern\":{\"fillmode\":\"overlay\",\"size\":10,\"solidity\":0.2}},\"type\":\"barpolar\"}],\"bar\":[{\"error_x\":{\"color\":\"#2a3f5f\"},\"error_y\":{\"color\":\"#2a3f5f\"},\"marker\":{\"line\":{\"color\":\"white\",\"width\":0.5},\"pattern\":{\"fillmode\":\"overlay\",\"size\":10,\"solidity\":0.2}},\"type\":\"bar\"}],\"carpet\":[{\"aaxis\":{\"endlinecolor\":\"#2a3f5f\",\"gridcolor\":\"#C8D4E3\",\"linecolor\":\"#C8D4E3\",\"minorgridcolor\":\"#C8D4E3\",\"startlinecolor\":\"#2a3f5f\"},\"baxis\":{\"endlinecolor\":\"#2a3f5f\",\"gridcolor\":\"#C8D4E3\",\"linecolor\":\"#C8D4E3\",\"minorgridcolor\":\"#C8D4E3\",\"startlinecolor\":\"#2a3f5f\"},\"type\":\"carpet\"}],\"choropleth\":[{\"colorbar\":{\"outlinewidth\":0,\"ticks\":\"\"},\"type\":\"choropleth\"}],\"contourcarpet\":[{\"colorbar\":{\"outlinewidth\":0,\"ticks\":\"\"},\"type\":\"contourcarpet\"}],\"contour\":[{\"colorbar\":{\"outlinewidth\":0,\"ticks\":\"\"},\"colorscale\":[[0.0,\"#0d0887\"],[0.1111111111111111,\"#46039f\"],[0.2222222222222222,\"#7201a8\"],[0.3333333333333333,\"#9c179e\"],[0.4444444444444444,\"#bd3786\"],[0.5555555555555556,\"#d8576b\"],[0.6666666666666666,\"#ed7953\"],[0.7777777777777778,\"#fb9f3a\"],[0.8888888888888888,\"#fdca26\"],[1.0,\"#f0f921\"]],\"type\":\"contour\"}],\"heatmapgl\":[{\"colorbar\":{\"outlinewidth\":0,\"ticks\":\"\"},\"colorscale\":[[0.0,\"#0d0887\"],[0.1111111111111111,\"#46039f\"],[0.2222222222222222,\"#7201a8\"],[0.3333333333333333,\"#9c179e\"],[0.4444444444444444,\"#bd3786\"],[0.5555555555555556,\"#d8576b\"],[0.6666666666666666,\"#ed7953\"],[0.7777777777777778,\"#fb9f3a\"],[0.8888888888888888,\"#fdca26\"],[1.0,\"#f0f921\"]],\"type\":\"heatmapgl\"}],\"heatmap\":[{\"colorbar\":{\"outlinewidth\":0,\"ticks\":\"\"},\"colorscale\":[[0.0,\"#0d0887\"],[0.1111111111111111,\"#46039f\"],[0.2222222222222222,\"#7201a8\"],[0.3333333333333333,\"#9c179e\"],[0.4444444444444444,\"#bd3786\"],[0.5555555555555556,\"#d8576b\"],[0.6666666666666666,\"#ed7953\"],[0.7777777777777778,\"#fb9f3a\"],[0.8888888888888888,\"#fdca26\"],[1.0,\"#f0f921\"]],\"type\":\"heatmap\"}],\"histogram2dcontour\":[{\"colorbar\":{\"outlinewidth\":0,\"ticks\":\"\"},\"colorscale\":[[0.0,\"#0d0887\"],[0.1111111111111111,\"#46039f\"],[0.2222222222222222,\"#7201a8\"],[0.3333333333333333,\"#9c179e\"],[0.4444444444444444,\"#bd3786\"],[0.5555555555555556,\"#d8576b\"],[0.6666666666666666,\"#ed7953\"],[0.7777777777777778,\"#fb9f3a\"],[0.8888888888888888,\"#fdca26\"],[1.0,\"#f0f921\"]],\"type\":\"histogram2dcontour\"}],\"histogram2d\":[{\"colorbar\":{\"outlinewidth\":0,\"ticks\":\"\"},\"colorscale\":[[0.0,\"#0d0887\"],[0.1111111111111111,\"#46039f\"],[0.2222222222222222,\"#7201a8\"],[0.3333333333333333,\"#9c179e\"],[0.4444444444444444,\"#bd3786\"],[0.5555555555555556,\"#d8576b\"],[0.6666666666666666,\"#ed7953\"],[0.7777777777777778,\"#fb9f3a\"],[0.8888888888888888,\"#fdca26\"],[1.0,\"#f0f921\"]],\"type\":\"histogram2d\"}],\"histogram\":[{\"marker\":{\"pattern\":{\"fillmode\":\"overlay\",\"size\":10,\"solidity\":0.2}},\"type\":\"histogram\"}],\"mesh3d\":[{\"colorbar\":{\"outlinewidth\":0,\"ticks\":\"\"},\"type\":\"mesh3d\"}],\"parcoords\":[{\"line\":{\"colorbar\":{\"outlinewidth\":0,\"ticks\":\"\"}},\"type\":\"parcoords\"}],\"pie\":[{\"automargin\":true,\"type\":\"pie\"}],\"scatter3d\":[{\"line\":{\"colorbar\":{\"outlinewidth\":0,\"ticks\":\"\"}},\"marker\":{\"colorbar\":{\"outlinewidth\":0,\"ticks\":\"\"}},\"type\":\"scatter3d\"}],\"scattercarpet\":[{\"marker\":{\"colorbar\":{\"outlinewidth\":0,\"ticks\":\"\"}},\"type\":\"scattercarpet\"}],\"scattergeo\":[{\"marker\":{\"colorbar\":{\"outlinewidth\":0,\"ticks\":\"\"}},\"type\":\"scattergeo\"}],\"scattergl\":[{\"marker\":{\"colorbar\":{\"outlinewidth\":0,\"ticks\":\"\"}},\"type\":\"scattergl\"}],\"scattermapbox\":[{\"marker\":{\"colorbar\":{\"outlinewidth\":0,\"ticks\":\"\"}},\"type\":\"scattermapbox\"}],\"scatterpolargl\":[{\"marker\":{\"colorbar\":{\"outlinewidth\":0,\"ticks\":\"\"}},\"type\":\"scatterpolargl\"}],\"scatterpolar\":[{\"marker\":{\"colorbar\":{\"outlinewidth\":0,\"ticks\":\"\"}},\"type\":\"scatterpolar\"}],\"scatter\":[{\"fillpattern\":{\"fillmode\":\"overlay\",\"size\":10,\"solidity\":0.2},\"type\":\"scatter\"}],\"scatterternary\":[{\"marker\":{\"colorbar\":{\"outlinewidth\":0,\"ticks\":\"\"}},\"type\":\"scatterternary\"}],\"surface\":[{\"colorbar\":{\"outlinewidth\":0,\"ticks\":\"\"},\"colorscale\":[[0.0,\"#0d0887\"],[0.1111111111111111,\"#46039f\"],[0.2222222222222222,\"#7201a8\"],[0.3333333333333333,\"#9c179e\"],[0.4444444444444444,\"#bd3786\"],[0.5555555555555556,\"#d8576b\"],[0.6666666666666666,\"#ed7953\"],[0.7777777777777778,\"#fb9f3a\"],[0.8888888888888888,\"#fdca26\"],[1.0,\"#f0f921\"]],\"type\":\"surface\"}],\"table\":[{\"cells\":{\"fill\":{\"color\":\"#EBF0F8\"},\"line\":{\"color\":\"white\"}},\"header\":{\"fill\":{\"color\":\"#C8D4E3\"},\"line\":{\"color\":\"white\"}},\"type\":\"table\"}]},\"layout\":{\"annotationdefaults\":{\"arrowcolor\":\"#2a3f5f\",\"arrowhead\":0,\"arrowwidth\":1},\"autotypenumbers\":\"strict\",\"coloraxis\":{\"colorbar\":{\"outlinewidth\":0,\"ticks\":\"\"}},\"colorscale\":{\"diverging\":[[0,\"#8e0152\"],[0.1,\"#c51b7d\"],[0.2,\"#de77ae\"],[0.3,\"#f1b6da\"],[0.4,\"#fde0ef\"],[0.5,\"#f7f7f7\"],[0.6,\"#e6f5d0\"],[0.7,\"#b8e186\"],[0.8,\"#7fbc41\"],[0.9,\"#4d9221\"],[1,\"#276419\"]],\"sequential\":[[0.0,\"#0d0887\"],[0.1111111111111111,\"#46039f\"],[0.2222222222222222,\"#7201a8\"],[0.3333333333333333,\"#9c179e\"],[0.4444444444444444,\"#bd3786\"],[0.5555555555555556,\"#d8576b\"],[0.6666666666666666,\"#ed7953\"],[0.7777777777777778,\"#fb9f3a\"],[0.8888888888888888,\"#fdca26\"],[1.0,\"#f0f921\"]],\"sequentialminus\":[[0.0,\"#0d0887\"],[0.1111111111111111,\"#46039f\"],[0.2222222222222222,\"#7201a8\"],[0.3333333333333333,\"#9c179e\"],[0.4444444444444444,\"#bd3786\"],[0.5555555555555556,\"#d8576b\"],[0.6666666666666666,\"#ed7953\"],[0.7777777777777778,\"#fb9f3a\"],[0.8888888888888888,\"#fdca26\"],[1.0,\"#f0f921\"]]},\"colorway\":[\"#636efa\",\"#EF553B\",\"#00cc96\",\"#ab63fa\",\"#FFA15A\",\"#19d3f3\",\"#FF6692\",\"#B6E880\",\"#FF97FF\",\"#FECB52\"],\"font\":{\"color\":\"#2a3f5f\"},\"geo\":{\"bgcolor\":\"white\",\"lakecolor\":\"white\",\"landcolor\":\"white\",\"showlakes\":true,\"showland\":true,\"subunitcolor\":\"#C8D4E3\"},\"hoverlabel\":{\"align\":\"left\"},\"hovermode\":\"closest\",\"mapbox\":{\"style\":\"light\"},\"paper_bgcolor\":\"white\",\"plot_bgcolor\":\"white\",\"polar\":{\"angularaxis\":{\"gridcolor\":\"#EBF0F8\",\"linecolor\":\"#EBF0F8\",\"ticks\":\"\"},\"bgcolor\":\"white\",\"radialaxis\":{\"gridcolor\":\"#EBF0F8\",\"linecolor\":\"#EBF0F8\",\"ticks\":\"\"}},\"scene\":{\"xaxis\":{\"backgroundcolor\":\"white\",\"gridcolor\":\"#DFE8F3\",\"gridwidth\":2,\"linecolor\":\"#EBF0F8\",\"showbackground\":true,\"ticks\":\"\",\"zerolinecolor\":\"#EBF0F8\"},\"yaxis\":{\"backgroundcolor\":\"white\",\"gridcolor\":\"#DFE8F3\",\"gridwidth\":2,\"linecolor\":\"#EBF0F8\",\"showbackground\":true,\"ticks\":\"\",\"zerolinecolor\":\"#EBF0F8\"},\"zaxis\":{\"backgroundcolor\":\"white\",\"gridcolor\":\"#DFE8F3\",\"gridwidth\":2,\"linecolor\":\"#EBF0F8\",\"showbackground\":true,\"ticks\":\"\",\"zerolinecolor\":\"#EBF0F8\"}},\"shapedefaults\":{\"line\":{\"color\":\"#2a3f5f\"}},\"ternary\":{\"aaxis\":{\"gridcolor\":\"#DFE8F3\",\"linecolor\":\"#A2B1C6\",\"ticks\":\"\"},\"baxis\":{\"gridcolor\":\"#DFE8F3\",\"linecolor\":\"#A2B1C6\",\"ticks\":\"\"},\"bgcolor\":\"white\",\"caxis\":{\"gridcolor\":\"#DFE8F3\",\"linecolor\":\"#A2B1C6\",\"ticks\":\"\"}},\"title\":{\"x\":0.05},\"xaxis\":{\"automargin\":true,\"gridcolor\":\"#EBF0F8\",\"linecolor\":\"#EBF0F8\",\"ticks\":\"\",\"title\":{\"standoff\":15},\"zerolinecolor\":\"#EBF0F8\",\"zerolinewidth\":2},\"yaxis\":{\"automargin\":true,\"gridcolor\":\"#EBF0F8\",\"linecolor\":\"#EBF0F8\",\"ticks\":\"\",\"title\":{\"standoff\":15},\"zerolinecolor\":\"#EBF0F8\",\"zerolinewidth\":2}}},\"title\":{\"font\":{\"size\":22,\"color\":\"Black\"},\"text\":\"\\u003cb\\u003eHierarchical Clustering\\u003c\\u002fb\\u003e\",\"x\":0.5,\"xanchor\":\"center\",\"yanchor\":\"top\"},\"hoverlabel\":{\"font\":{\"size\":16,\"family\":\"Rockwell\"},\"bgcolor\":\"white\"},\"plot_bgcolor\":\"#ECEFF1\"},                        {\"responsive\": true}                    )                };                            </script>        </div>"
      ],
      "text/plain": [
       "Figure({\n",
       "    'data': [{'hoverinfo': 'text',\n",
       "              'marker': {'color': 'rgb(61,153,112)'},\n",
       "              'mode': 'lines',\n",
       "              'text': [백신_접종_코로나_바이러스_사망, , , 에이즈_감염_염인_바이러스_모기],\n",
       "              'type': 'scatter',\n",
       "              'x': array([0.        , 0.89179519, 0.89179519, 0.        ]),\n",
       "              'xaxis': 'x',\n",
       "              'y': array([ -5.,  -5., -15., -15.]),\n",
       "              'yaxis': 'y'},\n",
       "             {'hoverinfo': 'text',\n",
       "              'marker': {'color': 'rgb(61,153,112)'},\n",
       "              'mode': 'lines',\n",
       "              'text': [자궁_불출석_임신_근종_적출, , , 담배_보건소_친구_문자_금연],\n",
       "              'type': 'scatter',\n",
       "              'x': array([0.        , 0.96153339, 0.96153339, 0.        ]),\n",
       "              'xaxis': 'x',\n",
       "              'y': array([-25., -25., -35., -35.]),\n",
       "              'yaxis': 'y'},\n",
       "             {'hoverinfo': 'text',\n",
       "              'marker': {'color': 'rgb(61,153,112)'},\n",
       "              'mode': 'lines',\n",
       "              'text': [백신_접종_코로나_감염_에이즈, , , 담배_보건소_친구_문자_금연],\n",
       "              'type': 'scatter',\n",
       "              'x': array([0.89179519, 0.9898447 , 0.9898447 , 0.96153339]),\n",
       "              'xaxis': 'x',\n",
       "              'y': array([-10., -10., -30., -30.]),\n",
       "              'yaxis': 'y'},\n",
       "             {'hoverinfo': 'text',\n",
       "              'marker': {'color': 'rgb(255,65,54)'},\n",
       "              'mode': 'lines',\n",
       "              'text': [불면증_발작_수면제_공황_현증, , , 우울증_심리_정신_우울_강박],\n",
       "              'type': 'scatter',\n",
       "              'x': array([0.        , 0.64969028, 0.64969028, 0.        ]),\n",
       "              'xaxis': 'x',\n",
       "              'y': array([-55., -55., -65., -65.]),\n",
       "              'yaxis': 'y'},\n",
       "             {'hoverinfo': 'text',\n",
       "              'marker': {'color': 'rgb(255,65,54)'},\n",
       "              'mode': 'lines',\n",
       "              'text': [우울증_심리_정신_우울_강박, , , 치매_뇌전증_발작_기억력_지력],\n",
       "              'type': 'scatter',\n",
       "              'x': array([0.64969028, 0.73670292, 0.73670292, 0.        ]),\n",
       "              'xaxis': 'x',\n",
       "              'y': array([-60., -60., -75., -75.]),\n",
       "              'yaxis': 'y'},\n",
       "             {'hoverinfo': 'text',\n",
       "              'marker': {'color': 'rgb(255,65,54)'},\n",
       "              'mode': 'lines',\n",
       "              'text': [트랜_성욕_여자_욕구_남자, , , 우울증_정신_심리_장애_우울],\n",
       "              'type': 'scatter',\n",
       "              'x': array([0.        , 0.90100752, 0.90100752, 0.73670292]),\n",
       "              'xaxis': 'x',\n",
       "              'y': array([-45. , -45. , -67.5, -67.5]),\n",
       "              'yaxis': 'y'},\n",
       "             {'hoverinfo': 'text',\n",
       "              'marker': {'color': 'rgb(0,116,217)'},\n",
       "              'mode': 'lines',\n",
       "              'text': [담배_백신_보건소_친구_접종, , , 우울증_정신_심리_장애_증상],\n",
       "              'type': 'scatter',\n",
       "              'x': array([0.9898447 , 1.09567292, 1.09567292, 0.90100752]),\n",
       "              'xaxis': 'x',\n",
       "              'y': array([-20.  , -20.  , -56.25, -56.25]),\n",
       "              'yaxis': 'y'},\n",
       "             {'hoverinfo': 'text',\n",
       "              'marker': {'color': 'rgb(35,205,205)'},\n",
       "              'mode': 'lines',\n",
       "              'text': [얼굴_광대뼈_수술_광대_축소, , , 돌출_교정_수술_치아_치과],\n",
       "              'type': 'scatter',\n",
       "              'x': array([0.        , 0.59025553, 0.59025553, 0.        ]),\n",
       "              'xaxis': 'x',\n",
       "              'y': array([-85., -85., -95., -95.]),\n",
       "              'yaxis': 'y'},\n",
       "             {'hoverinfo': 'text',\n",
       "              'marker': {'color': 'rgb(35,205,205)'},\n",
       "              'mode': 'lines',\n",
       "              'text': [돌출_수술_교정_치아_치과, , , 치과_플란트_교정_비용_치아],\n",
       "              'type': 'scatter',\n",
       "              'x': array([0.59025553, 0.70780674, 0.70780674, 0.        ]),\n",
       "              'xaxis': 'x',\n",
       "              'y': array([ -90.,  -90., -105., -105.]),\n",
       "              'yaxis': 'y'},\n",
       "             {'hoverinfo': 'text',\n",
       "              'marker': {'color': 'rgb(0,116,217)'},\n",
       "              'mode': 'lines',\n",
       "              'text': [담배_친구_백신_보건소_사람, , , 돌출_수술_교정_치아_치과],\n",
       "              'type': 'scatter',\n",
       "              'x': array([1.09567292, 1.2212894 , 1.2212894 , 0.70780674]),\n",
       "              'xaxis': 'x',\n",
       "              'y': array([-38.125, -38.125, -97.5  , -97.5  ]),\n",
       "              'yaxis': 'y'},\n",
       "             {'hoverinfo': 'text',\n",
       "              'marker': {'color': 'rgb(133,20,75)'},\n",
       "              'mode': 'lines',\n",
       "              'text': [간호사_간호법_간호_윤리_제정, , , 윤리_의료_사회_주제_분야],\n",
       "              'type': 'scatter',\n",
       "              'x': array([0.        , 0.68327915, 0.68327915, 0.        ]),\n",
       "              'xaxis': 'x',\n",
       "              'y': array([-125., -125., -135., -135.]),\n",
       "              'yaxis': 'y'},\n",
       "             {'hoverinfo': 'text',\n",
       "              'marker': {'color': 'rgb(133,20,75)'},\n",
       "              'mode': 'lines',\n",
       "              'text': [권리_진료_의무_비밀_환자, , , 불만_의사소통_상황_환자_의사],\n",
       "              'type': 'scatter',\n",
       "              'x': array([0.        , 0.72749928, 0.72749928, 0.        ]),\n",
       "              'xaxis': 'x',\n",
       "              'y': array([-145., -145., -155., -155.]),\n",
       "              'yaxis': 'y'},\n",
       "             {'hoverinfo': 'text',\n",
       "              'marker': {'color': 'rgb(133,20,75)'},\n",
       "              'mode': 'lines',\n",
       "              'text': [간호사_윤리_간호법_간호_의료, , , 권리_환자_진료_의무_보호],\n",
       "              'type': 'scatter',\n",
       "              'x': array([0.68327915, 0.74201879, 0.74201879, 0.72749928]),\n",
       "              'xaxis': 'x',\n",
       "              'y': array([-130., -130., -150., -150.]),\n",
       "              'yaxis': 'y'},\n",
       "             {'hoverinfo': 'text',\n",
       "              'marker': {'color': 'rgb(133,20,75)'},\n",
       "              'mode': 'lines',\n",
       "              'text': [수술실_설치_사회_정의_구성원, , , 간호사_윤리_권리_간호법_의료],\n",
       "              'type': 'scatter',\n",
       "              'x': array([0.        , 0.81633849, 0.81633849, 0.74201879]),\n",
       "              'xaxis': 'x',\n",
       "              'y': array([-115., -115., -140., -140.]),\n",
       "              'yaxis': 'y'},\n",
       "             {'hoverinfo': 'text',\n",
       "              'marker': {'color': 'rgb(133,20,75)'},\n",
       "              'mode': 'lines',\n",
       "              'text': [안락사_생명_고통_죽음_인간, , , 교재_수능_개념_의견_단어],\n",
       "              'type': 'scatter',\n",
       "              'x': array([0.        , 0.75307384, 0.75307384, 0.        ]),\n",
       "              'xaxis': 'x',\n",
       "              'y': array([-165., -165., -175., -175.]),\n",
       "              'yaxis': 'y'},\n",
       "             {'hoverinfo': 'text',\n",
       "              'marker': {'color': 'rgb(133,20,75)'},\n",
       "              'mode': 'lines',\n",
       "              'text': [안락사_생명_고통_죽음_인간, , , 과목_간호학_간호_교과_선택],\n",
       "              'type': 'scatter',\n",
       "              'x': array([0.75307384, 0.89818282, 0.89818282, 0.        ]),\n",
       "              'xaxis': 'x',\n",
       "              'y': array([-170., -170., -185., -185.]),\n",
       "              'yaxis': 'y'},\n",
       "             {'hoverinfo': 'text',\n",
       "              'marker': {'color': 'rgb(133,20,75)'},\n",
       "              'mode': 'lines',\n",
       "              'text': [간호사_윤리_권리_의료_간호법, , , 안락사_생명_고통_죽음_인간],\n",
       "              'type': 'scatter',\n",
       "              'x': array([0.81633849, 0.92387056, 0.92387056, 0.89818282]),\n",
       "              'xaxis': 'x',\n",
       "              'y': array([-127.5, -127.5, -177.5, -177.5]),\n",
       "              'yaxis': 'y'},\n",
       "             {'hoverinfo': 'text',\n",
       "              'marker': {'color': 'rgb(0,116,217)'},\n",
       "              'mode': 'lines',\n",
       "              'text': [돌출_수술_교정_담배_치아, , , 안락사_생명_환자_간호사_고통],\n",
       "              'type': 'scatter',\n",
       "              'x': array([1.2212894 , 1.28550398, 1.28550398, 0.92387056]),\n",
       "              'xaxis': 'x',\n",
       "              'y': array([ -67.8125,  -67.8125, -152.5   , -152.5   ]),\n",
       "              'yaxis': 'y'},\n",
       "             {'hoverinfo': 'text',\n",
       "              'marker': {'color': 'rgb(255,220,0)'},\n",
       "              'mode': 'lines',\n",
       "              'text': [교육_노인_요양_방문_법정, , , 노인_요양_방문_어르신_의정부],\n",
       "              'type': 'scatter',\n",
       "              'x': array([0.        , 0.26049503, 0.26049503, 0.        ]),\n",
       "              'xaxis': 'x',\n",
       "              'y': array([-195., -195., -205., -205.]),\n",
       "              'yaxis': 'y'},\n",
       "             {'hoverinfo': 'text',\n",
       "              'marker': {'color': 'rgb(0,116,217)'},\n",
       "              'mode': 'lines',\n",
       "              'text': [돌출_수술_교정_담배_치아, , , 노인_요양_방문_교육_의정부],\n",
       "              'type': 'scatter',\n",
       "              'x': array([1.28550398, 1.38332374, 1.38332374, 0.26049503]),\n",
       "              'xaxis': 'x',\n",
       "              'y': array([-110.15625, -110.15625, -200.     , -200.     ]),\n",
       "              'yaxis': 'y'},\n",
       "             {'hoverinfo': 'text',\n",
       "              'marker': {'color': 'rgb(40,35,35)'},\n",
       "              'mode': 'lines',\n",
       "              'text': [병원_입원_간호사_어머니_진료, , , 병원_보험_환자_의사_진료],\n",
       "              'type': 'scatter',\n",
       "              'x': array([0.        , 0.33508357, 0.33508357, 0.        ]),\n",
       "              'xaxis': 'x',\n",
       "              'y': array([-235., -235., -245., -245.]),\n",
       "              'yaxis': 'y'},\n",
       "             {'hoverinfo': 'text',\n",
       "              'marker': {'color': 'rgb(40,35,35)'},\n",
       "              'mode': 'lines',\n",
       "              'text': [의료_한국_병원_분쟁_요양원, , , 병원_입원_환자_진료_의사],\n",
       "              'type': 'scatter',\n",
       "              'x': array([0.        , 0.61176667, 0.61176667, 0.33508357]),\n",
       "              'xaxis': 'x',\n",
       "              'y': array([-225., -225., -240., -240.]),\n",
       "              'yaxis': 'y'},\n",
       "             {'hoverinfo': 'text',\n",
       "              'marker': {'color': 'rgb(40,35,35)'},\n",
       "              'mode': 'lines',\n",
       "              'text': [병원_환자_입원_진료_의사, , , 머피_가족_정신_아버지_저희],\n",
       "              'type': 'scatter',\n",
       "              'x': array([0.61176667, 0.69968564, 0.69968564, 0.        ]),\n",
       "              'xaxis': 'x',\n",
       "              'y': array([-232.5, -232.5, -255. , -255. ]),\n",
       "              'yaxis': 'y'},\n",
       "             {'hoverinfo': 'text',\n",
       "              'marker': {'color': 'rgb(40,35,35)'},\n",
       "              'mode': 'lines',\n",
       "              'text': [병원_힐링_순위_검색_요양, , , 병원_환자_입원_진료_의사],\n",
       "              'type': 'scatter',\n",
       "              'x': array([0.        , 0.84220013, 0.84220013, 0.69968564]),\n",
       "              'xaxis': 'x',\n",
       "              'y': array([-215.  , -215.  , -243.75, -243.75]),\n",
       "              'yaxis': 'y'},\n",
       "             {'hoverinfo': 'text',\n",
       "              'marker': {'color': 'rgb(61,153,112)'},\n",
       "              'mode': 'lines',\n",
       "              'text': [변호사_메디컬_사건_상담_의료, , , 의료_변호사_기록_소송_환자],\n",
       "              'type': 'scatter',\n",
       "              'x': array([0.        , 0.45349066, 0.45349066, 0.        ]),\n",
       "              'xaxis': 'x',\n",
       "              'y': array([-275., -275., -285., -285.]),\n",
       "              'yaxis': 'y'},\n",
       "             {'hoverinfo': 'text',\n",
       "              'marker': {'color': 'rgb(61,153,112)'},\n",
       "              'mode': 'lines',\n",
       "              'text': [변호사_의료_기록_법률_소송, , , 이혼_재산_변호사_상속_분할],\n",
       "              'type': 'scatter',\n",
       "              'x': array([0.45349066, 0.76655931, 0.76655931, 0.        ]),\n",
       "              'xaxis': 'x',\n",
       "              'y': array([-280., -280., -295., -295.]),\n",
       "              'yaxis': 'y'},\n",
       "             {'hoverinfo': 'text',\n",
       "              'marker': {'color': 'rgb(61,153,112)'},\n",
       "              'mode': 'lines',\n",
       "              'text': [파산_채무_상환_대출_회생, , , 변호사_의료_소송_기록_법률],\n",
       "              'type': 'scatter',\n",
       "              'x': array([0.        , 0.86998008, 0.86998008, 0.76655931]),\n",
       "              'xaxis': 'x',\n",
       "              'y': array([-265. , -265. , -287.5, -287.5]),\n",
       "              'yaxis': 'y'},\n",
       "             {'hoverinfo': 'text',\n",
       "              'marker': {'color': 'rgb(61,153,112)'},\n",
       "              'mode': 'lines',\n",
       "              'text': [변호사_의료_기록_소송_법률, , , 경매_부동산_등기_토지_경화],\n",
       "              'type': 'scatter',\n",
       "              'x': array([0.86998008, 0.94956217, 0.94956217, 0.        ]),\n",
       "              'xaxis': 'x',\n",
       "              'y': array([-276.25, -276.25, -305.  , -305.  ]),\n",
       "              'yaxis': 'y'},\n",
       "             {'hoverinfo': 'text',\n",
       "              'marker': {'color': 'rgb(0,116,217)'},\n",
       "              'mode': 'lines',\n",
       "              'text': [병원_환자_입원_진료_의사, , , 변호사_의료_기록_소송_법률],\n",
       "              'type': 'scatter',\n",
       "              'x': array([0.84220013, 1.06938885, 1.06938885, 0.94956217]),\n",
       "              'xaxis': 'x',\n",
       "              'y': array([-229.375, -229.375, -290.625, -290.625]),\n",
       "              'yaxis': 'y'},\n",
       "             {'hoverinfo': 'text',\n",
       "              'marker': {'color': 'rgb(255,65,54)'},\n",
       "              'mode': 'lines',\n",
       "              'text': [보험_사고_자동차_교통사고_보상, , , 보험_가입_보장_보험료_실비],\n",
       "              'type': 'scatter',\n",
       "              'x': array([0.        , 0.47306914, 0.47306914, 0.        ]),\n",
       "              'xaxis': 'x',\n",
       "              'y': array([-315., -315., -325., -325.]),\n",
       "              'yaxis': 'y'},\n",
       "             {'hoverinfo': 'text',\n",
       "              'marker': {'color': 'rgb(255,65,54)'},\n",
       "              'mode': 'lines',\n",
       "              'text': [보험_가입_사고_보장_보상, , , 보험_채팅_재무_오픈_카카오톡],\n",
       "              'type': 'scatter',\n",
       "              'x': array([0.47306914, 0.69883834, 0.69883834, 0.        ]),\n",
       "              'xaxis': 'x',\n",
       "              'y': array([-320., -320., -335., -335.]),\n",
       "              'yaxis': 'y'},\n",
       "             {'hoverinfo': 'text',\n",
       "              'marker': {'color': 'rgb(0,116,217)'},\n",
       "              'mode': 'lines',\n",
       "              'text': [병원_변호사_환자_의료_진료, , , 보험_가입_사고_보장_보상],\n",
       "              'type': 'scatter',\n",
       "              'x': array([1.06938885, 1.12468168, 1.12468168, 0.69883834]),\n",
       "              'xaxis': 'x',\n",
       "              'y': array([-260. , -260. , -327.5, -327.5]),\n",
       "              'yaxis': 'y'},\n",
       "             {'hoverinfo': 'text',\n",
       "              'marker': {'color': 'rgb(0,116,217)'},\n",
       "              'mode': 'lines',\n",
       "              'text': [돌출_수술_교정_담배_치아, , , 보험_병원_환자_변호사_입원],\n",
       "              'type': 'scatter',\n",
       "              'x': array([1.38332374, 1.38862859, 1.38862859, 1.12468168]),\n",
       "              'xaxis': 'x',\n",
       "              'y': array([-155.078125, -155.078125, -293.75    , -293.75    ]),\n",
       "              'yaxis': 'y'},\n",
       "             {'hoverinfo': 'text',\n",
       "              'marker': {'color': 'rgb(35,205,205)'},\n",
       "              'mode': 'lines',\n",
       "              'text': [허리_디스크_신발_척추_운동, , , 허리_디스크_운동_신발_척추],\n",
       "              'type': 'scatter',\n",
       "              'x': array([0.        , 0.04786488, 0.04786488, 0.        ]),\n",
       "              'xaxis': 'x',\n",
       "              'y': array([-365., -365., -375., -375.]),\n",
       "              'yaxis': 'y'},\n",
       "             {'hoverinfo': 'text',\n",
       "              'marker': {'color': 'rgb(35,205,205)'},\n",
       "              'mode': 'lines',\n",
       "              'text': [허리_디스크_운동_신발_척추, , , 검사_소견_허리_촬영_보험],\n",
       "              'type': 'scatter',\n",
       "              'x': array([0.04786488, 0.37627408, 0.37627408, 0.        ]),\n",
       "              'xaxis': 'x',\n",
       "              'y': array([-370., -370., -385., -385.]),\n",
       "              'yaxis': 'y'},\n",
       "             {'hoverinfo': 'text',\n",
       "              'marker': {'color': 'rgb(35,205,205)'},\n",
       "              'mode': 'lines',\n",
       "              'text': [경매_동산_유체_디스크_허리, , , 허리_디스크_운동_신발_척추],\n",
       "              'type': 'scatter',\n",
       "              'x': array([0.        , 0.52469302, 0.52469302, 0.37627408]),\n",
       "              'xaxis': 'x',\n",
       "              'y': array([-355. , -355. , -377.5, -377.5]),\n",
       "              'yaxis': 'y'},\n",
       "             {'hoverinfo': 'text',\n",
       "              'marker': {'color': 'rgb(35,205,205)'},\n",
       "              'mode': 'lines',\n",
       "              'text': [급여_협착증_실업_수급_퇴직금, , , 허리_디스크_운동_신발_척추],\n",
       "              'type': 'scatter',\n",
       "              'x': array([0.        , 0.82643241, 0.82643241, 0.52469302]),\n",
       "              'xaxis': 'x',\n",
       "              'y': array([-345.  , -345.  , -366.25, -366.25]),\n",
       "              'yaxis': 'y'},\n",
       "             {'hoverinfo': 'text',\n",
       "              'marker': {'color': 'rgb(61,153,112)'},\n",
       "              'mode': 'lines',\n",
       "              'text': [처방_복용_약물_약국_처방전, , , 검사_광우병_요산_통풍_회복],\n",
       "              'type': 'scatter',\n",
       "              'x': array([0.        , 0.67127436, 0.67127436, 0.        ]),\n",
       "              'xaxis': 'x',\n",
       "              'y': array([-405., -405., -415., -415.]),\n",
       "              'yaxis': 'y'},\n",
       "             {'hoverinfo': 'text',\n",
       "              'marker': {'color': 'rgb(61,153,112)'},\n",
       "              'mode': 'lines',\n",
       "              'text': [당뇨_혈당_당뇨병_인슐린_비타민, , , 섭취_음식_근육_식단_영양사],\n",
       "              'type': 'scatter',\n",
       "              'x': array([0.        , 0.64356039, 0.64356039, 0.        ]),\n",
       "              'xaxis': 'x',\n",
       "              'y': array([-435., -435., -445., -445.]),\n",
       "              'yaxis': 'y'},\n",
       "             {'hoverinfo': 'text',\n",
       "              'marker': {'color': 'rgb(61,153,112)'},\n",
       "              'mode': 'lines',\n",
       "              'text': [혈압_투여_콜레스테롤_혈증_심장, , , 당뇨_혈당_당뇨병_인슐린_섭취],\n",
       "              'type': 'scatter',\n",
       "              'x': array([0.        , 0.65109492, 0.65109492, 0.64356039]),\n",
       "              'xaxis': 'x',\n",
       "              'y': array([-425., -425., -440., -440.]),\n",
       "              'yaxis': 'y'},\n",
       "             {'hoverinfo': 'text',\n",
       "              'marker': {'color': 'rgb(61,153,112)'},\n",
       "              'mode': 'lines',\n",
       "              'text': [복용_처방_처방전_약물_약국, , , 당뇨_혈당_당뇨병_인슐린_섭취],\n",
       "              'type': 'scatter',\n",
       "              'x': array([0.67127436, 0.78354277, 0.78354277, 0.65109492]),\n",
       "              'xaxis': 'x',\n",
       "              'y': array([-410. , -410. , -432.5, -432.5]),\n",
       "              'yaxis': 'y'},\n",
       "             {'hoverinfo': 'text',\n",
       "              'marker': {'color': 'rgb(61,153,112)'},\n",
       "              'mode': 'lines',\n",
       "              'text': [천식_독감_기침_기름_호두, , , 당뇨_혈당_당뇨병_인슐린_섭취],\n",
       "              'type': 'scatter',\n",
       "              'x': array([0.        , 0.84691826, 0.84691826, 0.78354277]),\n",
       "              'xaxis': 'x',\n",
       "              'y': array([-395.  , -395.  , -421.25, -421.25]),\n",
       "              'yaxis': 'y'},\n",
       "             {'hoverinfo': 'text',\n",
       "              'marker': {'color': 'rgb(255,65,54)'},\n",
       "              'mode': 'lines',\n",
       "              'text': [항암_세포_암세포_치료_섭취, , , 암세포_면역_균사체_기전_항암],\n",
       "              'type': 'scatter',\n",
       "              'x': array([0.        , 0.42453218, 0.42453218, 0.        ]),\n",
       "              'xaxis': 'x',\n",
       "              'y': array([-465., -465., -475., -475.]),\n",
       "              'yaxis': 'y'},\n",
       "             {'hoverinfo': 'text',\n",
       "              'marker': {'color': 'rgb(255,65,54)'},\n",
       "              'mode': 'lines',\n",
       "              'text': [주사_면역_면역력_요법_겨우살이, , , 항암_암세포_세포_면역_물질],\n",
       "              'type': 'scatter',\n",
       "              'x': array([0.        , 0.74005201, 0.74005201, 0.42453218]),\n",
       "              'xaxis': 'x',\n",
       "              'y': array([-455., -455., -470., -470.]),\n",
       "              'yaxis': 'y'},\n",
       "             {'hoverinfo': 'text',\n",
       "              'marker': {'color': 'rgb(255,65,54)'},\n",
       "              'mode': 'lines',\n",
       "              'text': [항암_암세포_면역_세포_물질, , , 비타민_유방암_수치_세포_여성],\n",
       "              'type': 'scatter',\n",
       "              'x': array([0.74005201, 0.8310061 , 0.8310061 , 0.        ]),\n",
       "              'xaxis': 'x',\n",
       "              'y': array([-462.5, -462.5, -485. , -485. ]),\n",
       "              'yaxis': 'y'},\n",
       "             {'hoverinfo': 'text',\n",
       "              'marker': {'color': 'rgb(0,116,217)'},\n",
       "              'mode': 'lines',\n",
       "              'text': [당뇨_혈당_당뇨병_인슐린_섭취, , , 항암_암세포_세포_면역_비타민],\n",
       "              'type': 'scatter',\n",
       "              'x': array([0.84691826, 1.05300998, 1.05300998, 0.8310061 ]),\n",
       "              'xaxis': 'x',\n",
       "              'y': array([-408.125, -408.125, -473.75 , -473.75 ]),\n",
       "              'yaxis': 'y'},\n",
       "             {'hoverinfo': 'text',\n",
       "              'marker': {'color': 'rgb(0,116,217)'},\n",
       "              'mode': 'lines',\n",
       "              'text': [허리_디스크_운동_신발_척추, , , 항암_세포_당뇨_암세포_비타민],\n",
       "              'type': 'scatter',\n",
       "              'x': array([0.82643241, 1.44821422, 1.44821422, 1.05300998]),\n",
       "              'xaxis': 'x',\n",
       "              'y': array([-355.625 , -355.625 , -440.9375, -440.9375]),\n",
       "              'yaxis': 'y'},\n",
       "             {'hoverinfo': 'text',\n",
       "              'marker': {'color': 'rgb(0,116,217)'},\n",
       "              'mode': 'lines',\n",
       "              'text': [돌출_수술_교정_환자_보험, , , 허리_디스크_운동_치료_신발],\n",
       "              'type': 'scatter',\n",
       "              'x': array([1.38862859, 1.65207819, 1.65207819, 1.44821422]),\n",
       "              'xaxis': 'x',\n",
       "              'y': array([-224.4140625, -224.4140625, -398.28125  , -398.28125  ]),\n",
       "              'yaxis': 'y'},\n",
       "             {'hoverinfo': 'text',\n",
       "              'hovertext': [백신_접종_코로나_감염_에이즈, 우울증_심리_정신_우울_강박, 담배_백신_보건소_친구_접종,\n",
       "                            돌출_수술_교정_치아_치과, 담배_친구_백신_보건소_사람, 간호사_윤리_간호법_간호_의료,\n",
       "                            안락사_생명_고통_죽음_인간, 간호사_윤리_권리_의료_간호법, 돌출_수술_교정_담배_치아,\n",
       "                            돌출_수술_교정_담배_치아, 병원_환자_입원_진료_의사, 변호사_의료_기록_법률_소송,\n",
       "                            변호사_의료_기록_소송_법률, 병원_환자_입원_진료_의사, 보험_가입_사고_보장_보상,\n",
       "                            병원_변호사_환자_의료_진료, 돌출_수술_교정_담배_치아, 허리_디스크_운동_신발_척추,\n",
       "                            복용_처방_처방전_약물_약국, 항암_암세포_면역_세포_물질, 당뇨_혈당_당뇨병_인슐린_섭취,\n",
       "                            허리_디스크_운동_신발_척추, 돌출_수술_교정_환자_보험],\n",
       "              'marker': {'color': 'black'},\n",
       "              'mode': 'markers',\n",
       "              'showlegend': False,\n",
       "              'type': 'scatter',\n",
       "              'x': [0.8917951920917153, 0.6496902766086289, 0.9898447047821737,\n",
       "                    0.5902555301263068, 1.09567292034062, 0.6832791514978379,\n",
       "                    0.7530738420972356, 0.8163384870749548, 1.2212894023430798,\n",
       "                    1.2855039840351057, 0.6117666738421854, 0.4534906646825846,\n",
       "                    0.8699800751955091, 0.842200131865245, 0.47306913652630633,\n",
       "                    1.0693888454714366, 1.3833237434267673, 0.047864875425486786,\n",
       "                    0.6712743606296179, 0.7400520074633054, 0.8469182553977043,\n",
       "                    0.8264324136599759, 1.3886285850113864],\n",
       "              'y': [-10.0, -60.0, -20.0, -90.0, -38.125, -130.0, -170.0, -127.5,\n",
       "                    -67.8125, -110.15625, -232.5, -280.0, -276.25, -229.375,\n",
       "                    -320.0, -260.0, -155.078125, -370.0, -410.0, -462.5, -408.125,\n",
       "                    -355.625, -224.4140625]},\n",
       "             {'hoverinfo': 'text',\n",
       "              'hovertext': [담배_보건소_친구_문자_금연, 우울증_정신_심리_장애_우울, 우울증_정신_심리_장애_증상,\n",
       "                            돌출_수술_교정_치아_치과, 권리_환자_진료_의무_보호, 간호사_윤리_권리_간호법_의료,\n",
       "                            안락사_생명_고통_죽음_인간, 안락사_생명_환자_간호사_고통, 노인_요양_방문_교육_의정부,\n",
       "                            병원_입원_환자_진료_의사, 병원_환자_입원_진료_의사, 변호사_의료_소송_기록_법률,\n",
       "                            변호사_의료_기록_소송_법률, 보험_가입_사고_보장_보상, 보험_병원_환자_변호사_입원,\n",
       "                            허리_디스크_운동_신발_척추, 허리_디스크_운동_신발_척추, 당뇨_혈당_당뇨병_인슐린_섭취,\n",
       "                            당뇨_혈당_당뇨병_인슐린_섭취, 당뇨_혈당_당뇨병_인슐린_섭취, 항암_암세포_세포_면역_물질,\n",
       "                            항암_암세포_세포_면역_비타민, 항암_세포_당뇨_암세포_비타민, 허리_디스크_운동_치료_신발],\n",
       "              'marker': {'color': 'black'},\n",
       "              'mode': 'markers',\n",
       "              'showlegend': False,\n",
       "              'type': 'scatter',\n",
       "              'x': [0.9615333900551927, 0.736702922092964, 0.9010075245168172,\n",
       "                    0.7078067373763426, 0.7274992768850359, 0.7420187940487821,\n",
       "                    0.8981828208932792, 0.9238705582679936, 0.260495025016352,\n",
       "                    0.3350835707677333, 0.6996856397812825, 0.7665593094782956,\n",
       "                    0.9495621668635115, 0.6988383411745149, 1.1246816795594792,\n",
       "                    0.3762740778304176, 0.5246930212036599, 0.6435603860643488,\n",
       "                    0.6510949158971544, 0.783542773726645, 0.42453217838219204,\n",
       "                    0.831006100100152, 1.0530099787052947, 1.4482142181026985],\n",
       "              'y': [-30.0, -67.5, -56.25, -97.5, -150.0, -140.0, -177.5, -152.5,\n",
       "                    -200.0, -240.0, -243.75, -287.5, -290.625, -327.5, -293.75,\n",
       "                    -377.5, -366.25, -440.0, -432.5, -421.25, -470.0, -473.75,\n",
       "                    -440.9375, -398.28125]}],\n",
       "    'layout': {'autosize': False,\n",
       "               'height': 935,\n",
       "               'hoverlabel': {'bgcolor': 'white', 'font': {'family': 'Rockwell', 'size': 16}},\n",
       "               'hovermode': 'closest',\n",
       "               'plot_bgcolor': '#ECEFF1',\n",
       "               'showlegend': False,\n",
       "               'template': '...',\n",
       "               'title': {'font': {'color': 'Black', 'size': 22},\n",
       "                         'text': '<b>Hierarchical Clustering</b>',\n",
       "                         'x': 0.5,\n",
       "                         'xanchor': 'center',\n",
       "                         'yanchor': 'top'},\n",
       "               'width': 1000,\n",
       "               'xaxis': {'mirror': 'allticks',\n",
       "                         'rangemode': 'tozero',\n",
       "                         'showgrid': False,\n",
       "                         'showline': True,\n",
       "                         'showticklabels': True,\n",
       "                         'ticks': 'outside',\n",
       "                         'type': 'linear',\n",
       "                         'zeroline': False},\n",
       "               'yaxis': {'mirror': 'allticks',\n",
       "                         'range': [-490.0, 0.0],\n",
       "                         'rangemode': 'tozero',\n",
       "                         'showgrid': False,\n",
       "                         'showline': True,\n",
       "                         'showticklabels': True,\n",
       "                         'tickmode': 'array',\n",
       "                         'ticks': 'outside',\n",
       "                         'ticktext': [24_백신_접종_코로나, 40_에이즈_감염_염인, 42_자궁_불출석_임신,\n",
       "                                      9_담배_보건소_친구, 46_트랜_성욕_여자, 48_불면증_발작_수면제,\n",
       "                                      12_우울증_심리_정신, 28_치매_뇌전증_발작, 4_얼굴_광대뼈_수술,\n",
       "                                      14_돌출_교정_수술, 27_치과_플란트_교정, 37_수술실_설치_사회,\n",
       "                                      11_간호사_간호법_간호, 19_윤리_의료_사회, 23_권리_진료_의무,\n",
       "                                      45_불만_의사소통_상황, 7_안락사_생명_고통, 0_교재_수능_개념,\n",
       "                                      36_과목_간호학_간호, 34_교육_노인_요양, 44_노인_요양_방문,\n",
       "                                      33_병원_힐링_순위, 25_의료_한국_병원, 6_병원_입원_간호사,\n",
       "                                      1_병원_보험_환자, 21_머피_가족_정신, 26_파산_채무_상환,\n",
       "                                      30_변호사_메디컬_사건, 5_의료_변호사_기록, 32_이혼_재산_변호사,\n",
       "                                      38_경매_부동산_등기, 10_보험_사고_자동차, 13_보험_가입_보장,\n",
       "                                      39_보험_채팅_재무, 29_급여_협착증_실업, 15_경매_동산_유체,\n",
       "                                      47_허리_디스크_신발, 3_허리_디스크_운동, 31_검사_소견_허리,\n",
       "                                      20_천식_독감_기침, 16_처방_복용_약물, 22_검사_광우병_요산,\n",
       "                                      18_혈압_투여_콜레스테롤, 8_당뇨_혈당_당뇨병, 17_섭취_음식_근육,\n",
       "                                      43_주사_면역_면역력, 2_항암_세포_암세포, 35_암세포_면역_균사체,\n",
       "                                      41_비타민_유방암_수치],\n",
       "                         'tickvals': [-5.0, -15.0, -25.0, -35.0, -45.0, -55.0,\n",
       "                                      -65.0, -75.0, -85.0, -95.0, -105.0, -115.0,\n",
       "                                      -125.0, -135.0, -145.0, -155.0, -165.0,\n",
       "                                      -175.0, -185.0, -195.0, -205.0, -215.0,\n",
       "                                      -225.0, -235.0, -245.0, -255.0, -265.0,\n",
       "                                      -275.0, -285.0, -295.0, -305.0, -315.0,\n",
       "                                      -325.0, -335.0, -345.0, -355.0, -365.0,\n",
       "                                      -375.0, -385.0, -395.0, -405.0, -415.0,\n",
       "                                      -425.0, -435.0, -445.0, -455.0, -465.0,\n",
       "                                      -475.0, -485.0],\n",
       "                         'type': 'linear',\n",
       "                         'zeroline': False}}\n",
       "})"
      ]
     },
     "execution_count": 21,
     "metadata": {},
     "output_type": "execute_result"
    }
   ],
   "source": [
    "# 토픽 정보를 확인하거나 계층적 토픽에 대한 덴드로그램을 그림.\n",
    "\n",
    "# 정보 확인, 시각화.\n",
    "# topic_model.get_topic_info()\n",
    "# topic_model.visualize_topics()\n",
    "\n",
    "# 덴드로그램.\n",
    "hierarchical_topics = topic_model.hierarchical_topics(docs)\n",
    "topic_model.visualize_hierarchy(hierarchical_topics=hierarchical_topics)\n"
   ]
  }
 ],
 "metadata": {
  "kernelspec": {
   "display_name": ".venv",
   "language": "python",
   "name": "python3"
  },
  "language_info": {
   "codemirror_mode": {
    "name": "ipython",
    "version": 3
   },
   "file_extension": ".py",
   "mimetype": "text/x-python",
   "name": "python",
   "nbconvert_exporter": "python",
   "pygments_lexer": "ipython3",
   "version": "3.10.2"
  }
 },
 "nbformat": 4,
 "nbformat_minor": 2
}
